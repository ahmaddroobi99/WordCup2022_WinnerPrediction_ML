{
 "cells": [
  {
   "cell_type": "code",
   "execution_count": 3,
   "id": "d6b09098",
   "metadata": {},
   "outputs": [],
   "source": [
    "# Importing Libraries\n"
   ]
  },
  {
   "cell_type": "code",
   "execution_count": 2,
   "id": "99a19cdc",
   "metadata": {},
   "outputs": [],
   "source": [
    "import numpy as np \n",
    "import pandas as pd \n",
    "import matplotlib.pyplot as plt\n",
    "import seaborn as sns\n",
    "import os\n",
    "import warnings\n",
    "warnings.filterwarnings('ignore')"
   ]
  },
  {
   "cell_type": "code",
   "execution_count": 4,
   "id": "b25d9cce",
   "metadata": {},
   "outputs": [],
   "source": [
    "# importing Datasets\n"
   ]
  },
  {
   "cell_type": "code",
   "execution_count": 6,
   "id": "f2327c6a",
   "metadata": {},
   "outputs": [
    {
     "data": {
      "text/plain": [
       "(19239, 110)"
      ]
     },
     "execution_count": 6,
     "metadata": {},
     "output_type": "execute_result"
    }
   ],
   "source": [
    "FIFA22 = pd.read_csv('../Datasets/players_22.csv')\n",
    "FIFA22.shape"
   ]
  },
  {
   "cell_type": "code",
   "execution_count": 7,
   "id": "25fc257f",
   "metadata": {},
   "outputs": [
    {
     "name": "stdout",
     "output_type": "stream",
     "text": [
      "<class 'pandas.core.frame.DataFrame'>\n",
      "RangeIndex: 19239 entries, 0 to 19238\n",
      "Data columns (total 9 columns):\n",
      " #   Column            Non-Null Count  Dtype  \n",
      "---  ------            --------------  -----  \n",
      " 0   short_name        19239 non-null  object \n",
      " 1   age               19239 non-null  int64  \n",
      " 2   nationality_name  19239 non-null  object \n",
      " 3   overall           19239 non-null  int64  \n",
      " 4   potential         19239 non-null  int64  \n",
      " 5   club_name         19178 non-null  object \n",
      " 6   value_eur         19165 non-null  float64\n",
      " 7   wage_eur          19178 non-null  float64\n",
      " 8   player_positions  19239 non-null  object \n",
      "dtypes: float64(2), int64(3), object(4)\n",
      "memory usage: 1.3+ MB\n"
     ]
    }
   ],
   "source": [
    "interesting_columns = ['short_name', 'age', 'nationality_name', 'overall', 'potential', 'club_name', 'value_eur', 'wage_eur', 'player_positions']\n",
    "FIFA22 = pd.DataFrame(FIFA22, columns=interesting_columns)\n",
    "FIFA22.info()"
   ]
  },
  {
   "cell_type": "code",
   "execution_count": 109,
   "id": "73a82935",
   "metadata": {},
   "outputs": [
    {
     "data": {
      "text/html": [
       "<div>\n",
       "<style scoped>\n",
       "    .dataframe tbody tr th:only-of-type {\n",
       "        vertical-align: middle;\n",
       "    }\n",
       "\n",
       "    .dataframe tbody tr th {\n",
       "        vertical-align: top;\n",
       "    }\n",
       "\n",
       "    .dataframe thead th {\n",
       "        text-align: right;\n",
       "    }\n",
       "</style>\n",
       "<table border=\"1\" class=\"dataframe\">\n",
       "  <thead>\n",
       "    <tr style=\"text-align: right;\">\n",
       "      <th></th>\n",
       "      <th>short_name</th>\n",
       "      <th>age</th>\n",
       "      <th>nationality_name</th>\n",
       "      <th>overall</th>\n",
       "      <th>potential</th>\n",
       "      <th>club_name</th>\n",
       "      <th>Position</th>\n",
       "      <th>value_eur</th>\n",
       "      <th>wage_eur</th>\n",
       "    </tr>\n",
       "  </thead>\n",
       "  <tbody>\n",
       "    <tr>\n",
       "      <th>0</th>\n",
       "      <td>L. Messi</td>\n",
       "      <td>34</td>\n",
       "      <td>Argentina</td>\n",
       "      <td>93</td>\n",
       "      <td>93</td>\n",
       "      <td>Paris Saint-Germain</td>\n",
       "      <td>RW</td>\n",
       "      <td>78000000.0</td>\n",
       "      <td>320000.0</td>\n",
       "    </tr>\n",
       "    <tr>\n",
       "      <th>30</th>\n",
       "      <td>S. Agüero</td>\n",
       "      <td>33</td>\n",
       "      <td>Argentina</td>\n",
       "      <td>87</td>\n",
       "      <td>87</td>\n",
       "      <td>FC Barcelona</td>\n",
       "      <td>ST</td>\n",
       "      <td>51000000.0</td>\n",
       "      <td>260000.0</td>\n",
       "    </tr>\n",
       "    <tr>\n",
       "      <th>33</th>\n",
       "      <td>Á. Di María</td>\n",
       "      <td>33</td>\n",
       "      <td>Argentina</td>\n",
       "      <td>87</td>\n",
       "      <td>87</td>\n",
       "      <td>Paris Saint-Germain</td>\n",
       "      <td>RW</td>\n",
       "      <td>49500000.0</td>\n",
       "      <td>160000.0</td>\n",
       "    </tr>\n",
       "    <tr>\n",
       "      <th>41</th>\n",
       "      <td>P. Dybala</td>\n",
       "      <td>27</td>\n",
       "      <td>Argentina</td>\n",
       "      <td>87</td>\n",
       "      <td>88</td>\n",
       "      <td>Juventus</td>\n",
       "      <td>CF</td>\n",
       "      <td>93000000.0</td>\n",
       "      <td>160000.0</td>\n",
       "    </tr>\n",
       "    <tr>\n",
       "      <th>69</th>\n",
       "      <td>A. Gómez</td>\n",
       "      <td>33</td>\n",
       "      <td>Argentina</td>\n",
       "      <td>85</td>\n",
       "      <td>85</td>\n",
       "      <td>Sevilla FC</td>\n",
       "      <td>CAM</td>\n",
       "      <td>33500000.0</td>\n",
       "      <td>51000.0</td>\n",
       "    </tr>\n",
       "    <tr>\n",
       "      <th>...</th>\n",
       "      <td>...</td>\n",
       "      <td>...</td>\n",
       "      <td>...</td>\n",
       "      <td>...</td>\n",
       "      <td>...</td>\n",
       "      <td>...</td>\n",
       "      <td>...</td>\n",
       "      <td>...</td>\n",
       "      <td>...</td>\n",
       "    </tr>\n",
       "    <tr>\n",
       "      <th>16449</th>\n",
       "      <td>F. Galván</td>\n",
       "      <td>21</td>\n",
       "      <td>Argentina</td>\n",
       "      <td>59</td>\n",
       "      <td>68</td>\n",
       "      <td>San Lorenzo de Almagro</td>\n",
       "      <td>ST</td>\n",
       "      <td>500000.0</td>\n",
       "      <td>2000.0</td>\n",
       "    </tr>\n",
       "    <tr>\n",
       "      <th>17549</th>\n",
       "      <td>M. Pochettino</td>\n",
       "      <td>20</td>\n",
       "      <td>Argentina</td>\n",
       "      <td>56</td>\n",
       "      <td>72</td>\n",
       "      <td>Watford</td>\n",
       "      <td>RM</td>\n",
       "      <td>375000.0</td>\n",
       "      <td>6000.0</td>\n",
       "    </tr>\n",
       "    <tr>\n",
       "      <th>18028</th>\n",
       "      <td>F. Torres</td>\n",
       "      <td>24</td>\n",
       "      <td>Argentina</td>\n",
       "      <td>55</td>\n",
       "      <td>58</td>\n",
       "      <td>Deportivo Cali</td>\n",
       "      <td>RM</td>\n",
       "      <td>170000.0</td>\n",
       "      <td>500.0</td>\n",
       "    </tr>\n",
       "    <tr>\n",
       "      <th>18034</th>\n",
       "      <td>G. Machado</td>\n",
       "      <td>20</td>\n",
       "      <td>Argentina</td>\n",
       "      <td>55</td>\n",
       "      <td>68</td>\n",
       "      <td>Cerro Largo Fútbol Club</td>\n",
       "      <td>CDM</td>\n",
       "      <td>300000.0</td>\n",
       "      <td>500.0</td>\n",
       "    </tr>\n",
       "    <tr>\n",
       "      <th>18117</th>\n",
       "      <td>S. Visentin</td>\n",
       "      <td>22</td>\n",
       "      <td>Argentina</td>\n",
       "      <td>55</td>\n",
       "      <td>64</td>\n",
       "      <td>Crotone</td>\n",
       "      <td>CB</td>\n",
       "      <td>275000.0</td>\n",
       "      <td>2000.0</td>\n",
       "    </tr>\n",
       "  </tbody>\n",
       "</table>\n",
       "<p>960 rows × 9 columns</p>\n",
       "</div>"
      ],
      "text/plain": [
       "          short_name  age nationality_name  overall  potential  \\\n",
       "0           L. Messi   34        Argentina       93         93   \n",
       "30         S. Agüero   33        Argentina       87         87   \n",
       "33       Á. Di María   33        Argentina       87         87   \n",
       "41         P. Dybala   27        Argentina       87         88   \n",
       "69          A. Gómez   33        Argentina       85         85   \n",
       "...              ...  ...              ...      ...        ...   \n",
       "16449      F. Galván   21        Argentina       59         68   \n",
       "17549  M. Pochettino   20        Argentina       56         72   \n",
       "18028      F. Torres   24        Argentina       55         58   \n",
       "18034     G. Machado   20        Argentina       55         68   \n",
       "18117    S. Visentin   22        Argentina       55         64   \n",
       "\n",
       "                     club_name Position   value_eur  wage_eur  \n",
       "0          Paris Saint-Germain       RW  78000000.0  320000.0  \n",
       "30                FC Barcelona       ST  51000000.0  260000.0  \n",
       "33         Paris Saint-Germain       RW  49500000.0  160000.0  \n",
       "41                    Juventus       CF  93000000.0  160000.0  \n",
       "69                  Sevilla FC      CAM  33500000.0   51000.0  \n",
       "...                        ...      ...         ...       ...  \n",
       "16449   San Lorenzo de Almagro       ST    500000.0    2000.0  \n",
       "17549                  Watford       RM    375000.0    6000.0  \n",
       "18028           Deportivo Cali       RM    170000.0     500.0  \n",
       "18034  Cerro Largo Fútbol Club      CDM    300000.0     500.0  \n",
       "18117                  Crotone       CB    275000.0    2000.0  \n",
       "\n",
       "[960 rows x 9 columns]"
      ]
     },
     "execution_count": 109,
     "metadata": {},
     "output_type": "execute_result"
    }
   ],
   "source": [
    "FIFA22[FIFA22['nationality_name']==\"Argentina\"]\n",
    "# FIFA22[FIFA22['nationality_name']==\"France\"]"
   ]
  },
  {
   "cell_type": "code",
   "execution_count": null,
   "id": "40d96736",
   "metadata": {},
   "outputs": [],
   "source": [
    "# only 32 Teams in the 2022 world cup \n"
   ]
  },
  {
   "cell_type": "code",
   "execution_count": 10,
   "id": "ee5639de",
   "metadata": {},
   "outputs": [
    {
     "data": {
      "text/plain": [
       "array(['Argentina', 'Poland', 'Portugal', 'Brazil', 'Belgium', 'France',\n",
       "       'Germany', 'England', 'Korea Republic', 'Netherlands', 'Senegal',\n",
       "       'Spain', 'Uruguay', 'Costa Rica', 'Croatia', 'Denmark',\n",
       "       'Switzerland', 'Serbia', 'Morocco', 'Mexico', 'Cameroon', 'Ghana',\n",
       "       'Wales', 'USA', 'Canada', 'Japan', 'Ecuador', 'IR Iran',\n",
       "       'Australia', 'Tunisia', 'Saudi Arabia'], dtype=object)"
      ]
     },
     "execution_count": 10,
     "metadata": {},
     "output_type": "execute_result"
    }
   ],
   "source": [
    "list_2022 = ['Qatar', 'Germany', 'Denmark', 'Brazil', 'France', 'Belgium', 'Croatia', 'Spain', 'Serbia', 'England', 'Switzerland', 'Netherlands', 'Argentina', 'IR Iran', 'Korea Republic', 'Japan', 'Saudi Arabia', 'Ecuador', 'Uruguay', 'Canada', 'Ghana', 'Senegal', 'Portugal', 'Poland', 'Tunisia', 'Morocco', 'Cameroon', 'USA', 'Mexico', 'Wales', 'Australia', 'Costa Rica']\n",
    "FIFA22['Position'] = FIFA22['player_positions'].str.split(\",\").str[0]\n",
    "FIFA22 = FIFA22[[\"short_name\", \"age\", \"nationality_name\", 'overall', 'potential', \"club_name\", \"Position\", \"value_eur\", \"wage_eur\"]]\n",
    "FIFA22 = FIFA22[(FIFA22[\"nationality_name\"].apply(lambda x: x in list_2022))]\n",
    "FIFA22['nationality_name'].unique()"
   ]
  },
  {
   "cell_type": "code",
   "execution_count": 11,
   "id": "90943e2f",
   "metadata": {},
   "outputs": [
    {
     "data": {
      "image/png": "[encoded data removed]",
      "text/plain": [
       "<Figure size 432x288 with 1 Axes>"
      ]
     },
     "metadata": {
      "needs_background": "light"
     },
     "output_type": "display_data"
    }
   ],
   "source": [
    "Overall = FIFA22[\"overall\"]\n",
    "footballer_name = FIFA22[\"short_name\"]\n",
    "\n",
    "x = FIFA22['short_name'].head(20) \n",
    "y = FIFA22['overall'].head(20)\n",
    "\n",
    "# plot\n",
    "\n",
    "ax= sns.barplot(x=y, y=x, color=\"#7F1431\", orient='h')\n",
    "plt.xlabel('Overall Ratings', size=20) \n",
    "plt.ylabel('Player', size=20) \n",
    "plt.title('Top 20 players QATAR World Cup')\n",
    "\n",
    "plt.show()"
   ]
  },
  {
   "cell_type": "code",
   "execution_count": 13,
   "id": "8108eb31",
   "metadata": {},
   "outputs": [],
   "source": [
    "def get_best_squad(formation):\n",
    "    FIFA22_copy = FIFA22.copy()\n",
    "    store = []\n",
    "    \n",
    "    # iterate through all positions in the input formation and get players with highest overall respective to the position\n",
    "    for i in formation:\n",
    "        store.append([\n",
    "            i,\n",
    "            FIFA22_copy.loc[[FIFA22_copy[FIFA22_copy['Position'] == i]['overall'].idxmax()]]['short_name'].to_string(index=False),\n",
    "            FIFA22_copy[FIFA22_copy['Position'] == i]['overall'].max(),\n",
    "            FIFA22_copy.loc[[FIFA22_copy[FIFA22_copy['Position'] == i]['overall'].idxmax()]]['age'].to_string(index=False),\n",
    "            FIFA22_copy.loc[[FIFA22_copy[FIFA22_copy['Position'] == i]['overall'].idxmax()]]['club_name'].to_string(index=False),\n",
    "            FIFA22_copy.loc[[FIFA22_copy[FIFA22_copy['Position'] == i]['overall'].idxmax()]]['value_eur'].to_string(index=False),\n",
    "            FIFA22_copy.loc[[FIFA22_copy[FIFA22_copy['Position'] == i]['overall'].idxmax()]]['wage_eur'].to_string(index=False)\n",
    "        ])\n",
    "        FIFA22_copy.drop(FIFA22_copy[FIFA22_copy['Position'] == i]['overall'].idxmax(), \n",
    "                         inplace=True)\n",
    "    # return store with only necessary columns\n",
    "    return pd.DataFrame(np.array(store).reshape(11,7), \n",
    "                        columns = ['Position', 'short_name', 'overall', 'age', 'club_name', 'value_eur', 'wage_eur']).to_string(index = False)"
   ]
  },
  {
   "cell_type": "code",
   "execution_count": 14,
   "id": "8b485232",
   "metadata": {},
   "outputs": [],
   "source": [
    "# best 4 3 3 "
   ]
  },
  {
   "cell_type": "code",
   "execution_count": 15,
   "id": "a968c0d3",
   "metadata": {},
   "outputs": [
    {
     "name": "stdout",
     "output_type": "stream",
     "text": [
      "4-3-3\n",
      "Position          short_name overall age           club_name   value_eur wage_eur\n",
      "      GK            M. Neuer      90  35   FC Bayern München  13500000.0  86000.0\n",
      "      RB T. Alexander-Arnold      87  22           Liverpool 114000000.0 150000.0\n",
      "      CB         V. van Dijk      89  29           Liverpool  86000000.0 230000.0\n",
      "      CB        Sergio Ramos      88  35 Paris Saint-Germain  24000000.0 115000.0\n",
      "      LB          Jordi Alba      86  32        FC Barcelona  47000000.0 200000.0\n",
      "     CDM            N. Kanté      90  30             Chelsea 100000000.0 230000.0\n",
      "      CM        K. De Bruyne      91  30     Manchester City 125500000.0 350000.0\n",
      "     CAM     Bruno Fernandes      88  26   Manchester United 107500000.0 250000.0\n",
      "      RW            L. Messi      93  34 Paris Saint-Germain  78000000.0 320000.0\n",
      "      ST      R. Lewandowski      92  32   FC Bayern München 119500000.0 270000.0\n",
      "      LW           Neymar Jr      91  29 Paris Saint-Germain 129000000.0 270000.0\n"
     ]
    }
   ],
   "source": [
    "squad_433 = ['GK', 'RB', 'CB', 'CB', 'LB', 'CDM', 'CM', 'CAM', 'RW', 'ST', 'LW']\n",
    "print ('4-3-3')\n",
    "print (get_best_squad(squad_433))"
   ]
  },
  {
   "cell_type": "code",
   "execution_count": null,
   "id": "9a589bf3",
   "metadata": {},
   "outputs": [],
   "source": [
    "# 4 2 2 "
   ]
  },
  {
   "cell_type": "code",
   "execution_count": 16,
   "id": "376b01f6",
   "metadata": {},
   "outputs": [
    {
     "name": "stdout",
     "output_type": "stream",
     "text": [
      "4-4-2\n",
      "Position          short_name overall age           club_name   value_eur wage_eur\n",
      "      GK            M. Neuer      90  35   FC Bayern München  13500000.0  86000.0\n",
      "      RB T. Alexander-Arnold      87  22           Liverpool 114000000.0 150000.0\n",
      "      CB         V. van Dijk      89  29           Liverpool  86000000.0 230000.0\n",
      "      CB        Sergio Ramos      88  35 Paris Saint-Germain  24000000.0 115000.0\n",
      "      LB          Jordi Alba      86  32        FC Barcelona  47000000.0 200000.0\n",
      "      RM           J. Sancho      87  21   Manchester United 116500000.0 150000.0\n",
      "      CM        K. De Bruyne      91  30     Manchester City 125500000.0 350000.0\n",
      "      CM            T. Kroos      88  31      Real Madrid CF  75000000.0 310000.0\n",
      "      LM              H. Son      89  28   Tottenham Hotspur 104000000.0 220000.0\n",
      "      ST      R. Lewandowski      92  32   FC Bayern München 119500000.0 270000.0\n",
      "      ST   Cristiano Ronaldo      91  36   Manchester United  45000000.0 270000.0\n"
     ]
    }
   ],
   "source": [
    "squad_442 = ['GK', 'RB', 'CB', 'CB', 'LB', 'RM', 'CM', 'CM', 'LM', 'ST', 'ST']\n",
    "print ('4-4-2')\n",
    "print (get_best_squad(squad_442))"
   ]
  },
  {
   "cell_type": "code",
   "execution_count": 17,
   "id": "672f2b09",
   "metadata": {},
   "outputs": [],
   "source": [
    "# 4 3 2 1 "
   ]
  },
  {
   "cell_type": "code",
   "execution_count": 18,
   "id": "2141e4fa",
   "metadata": {},
   "outputs": [
    {
     "name": "stdout",
     "output_type": "stream",
     "text": [
      "4-2-3-1\n",
      "Position          short_name overall age           club_name   value_eur wage_eur\n",
      "      GK            M. Neuer      90  35   FC Bayern München  13500000.0  86000.0\n",
      "      RB T. Alexander-Arnold      87  22           Liverpool 114000000.0 150000.0\n",
      "      CB         V. van Dijk      89  29           Liverpool  86000000.0 230000.0\n",
      "      CB        Sergio Ramos      88  35 Paris Saint-Germain  24000000.0 115000.0\n",
      "      LB          Jordi Alba      86  32        FC Barcelona  47000000.0 200000.0\n",
      "     CDM            N. Kanté      90  30             Chelsea 100000000.0 230000.0\n",
      "     CDM            Casemiro      89  29      Real Madrid CF  88000000.0 310000.0\n",
      "     CAM     Bruno Fernandes      88  26   Manchester United 107500000.0 250000.0\n",
      "     CAM           T. Müller      87  31   FC Bayern München  66000000.0 140000.0\n",
      "     CAM      Bernardo Silva      86  26     Manchester City  80000000.0 200000.0\n",
      "      ST      R. Lewandowski      92  32   FC Bayern München 119500000.0 270000.0\n"
     ]
    }
   ],
   "source": [
    "squad_4231 = ['GK', 'RB', 'CB', 'CB', 'LB', 'CDM', 'CDM', 'CAM', 'CAM', 'CAM', 'ST']\n",
    "print ('4-2-3-1')\n",
    "print (get_best_squad(squad_4231))"
   ]
  },
  {
   "cell_type": "code",
   "execution_count": 19,
   "id": "82849f21",
   "metadata": {},
   "outputs": [],
   "source": [
    "## Top 10 Promising Teams 2022 World Cup"
   ]
  },
  {
   "cell_type": "code",
   "execution_count": 20,
   "id": "98da70a0",
   "metadata": {},
   "outputs": [],
   "source": [
    "def get_best_squad_n(formation, nationality, measurement = 'overall'):\n",
    "    FIFA22_copy = FIFA22.copy()\n",
    "    FIFA22_copy = FIFA22_copy[FIFA22_copy['nationality_name'] == nationality]\n",
    "    store = []\n",
    "    for i in formation:\n",
    "        store.append([\n",
    "            FIFA22_copy.loc[[FIFA22_copy[FIFA22_copy['Position'].str.contains(i)][measurement].idxmax()]]['Position'].to_string(index = False),\n",
    "            FIFA22_copy.loc[[FIFA22_copy[FIFA22_copy['Position'].str.contains(i)][measurement].idxmax()]]['short_name'].to_string(index = False), \n",
    "            FIFA22_copy[FIFA22_copy['Position'].str.contains(i)][measurement].max(),\n",
    "            FIFA22_copy.loc[[FIFA22_copy[FIFA22_copy['Position'].str.contains(i)][measurement].idxmax()]]['age'].to_string(index = False),\n",
    "            FIFA22_copy.loc[[FIFA22_copy[FIFA22_copy['Position'].str.contains(i)][measurement].idxmax()]]['club_name'].to_string(index = False),\n",
    "            FIFA22_copy.loc[[FIFA22_copy[FIFA22_copy['Position'].str.contains(i)][measurement].idxmax()]]['value_eur'].to_string(index = False),\n",
    "            FIFA22_copy.loc[[FIFA22_copy[FIFA22_copy['Position'].str.contains(i)][measurement].idxmax()]]['wage_eur'].to_string(index = False)\n",
    "        ])    \n",
    "        FIFA22_copy.drop(FIFA22_copy[FIFA22_copy['Position'].str.contains(i)][measurement].idxmax(),inplace = True)\n",
    "    return np.mean([x[2] for x in store]).round(2), pd.DataFrame(np.array(store).reshape(11,7),columns = ['Position', 'short_name', measurement, 'age', 'club_name', 'value_eur', 'wage_eur']).to_string(index = False)"
   ]
  },
  {
   "cell_type": "code",
   "execution_count": 21,
   "id": "020b4ea8",
   "metadata": {},
   "outputs": [],
   "source": [
    "def get_summary_n(squad_list, squad_name, nationality_list):\n",
    "    summary = []\n",
    "    for i in nationality_list:\n",
    "        count = 0\n",
    "        for j in squad_list:\n",
    "            try:\n",
    "                # for overall rating\n",
    "                O_temp_rating, _  = get_best_squad_n(formation = j, nationality = i, measurement = 'overall')\n",
    "                # for potential rating & corresponding value\n",
    "                P_temp_rating, _ = get_best_squad_n(formation = j, nationality = i, measurement = 'potential')\n",
    "                summary.append([i, squad_name[count], O_temp_rating.round(2), P_temp_rating.round(2)])    \n",
    "                count += 1\n",
    "            except:\n",
    "                count += 1  \n",
    "    return summary"
   ]
  },
  {
   "cell_type": "code",
   "execution_count": 22,
   "id": "4228a345",
   "metadata": {},
   "outputs": [],
   "source": [
    "squad_343_strict = ['GK', 'CB', 'CB', 'CB', 'RB|RWB', 'CM|CDM', 'CM|CDM', 'LB|LWB', 'RM|RW', 'ST|CF', 'LM|LW']\n",
    "squad_442_strict = ['GK', 'RB|RWB', 'CB', 'CB', 'LB|LWB', 'RM', 'CM|CDM', 'CM|CAM', 'LM', 'ST|CF', 'ST|CF']\n",
    "squad_4312_strict = ['GK', 'RB|RWB', 'CB', 'CB', 'LB|LWB', 'CM|CDM', 'CM|CAM|CDM', 'CM|CAM|CDM', 'CAM|CF', 'ST|CF', 'ST|CF']\n",
    "squad_433_strict = ['GK', 'RB|RWB', 'CB', 'CB', 'LB|LWB', 'CM|CDM', 'CM|CAM|CDM', 'CM|CAM|CDM', 'RM|RW', 'ST|CF', 'LM|LW']\n",
    "squad_4231_strict = ['GK', 'RB|RWB', 'CB', 'CB', 'LB|LWB', 'CM|CDM', 'CM|CDM', 'RM|RW', 'CAM', 'LM|LW', 'ST|CF']"
   ]
  },
  {
   "cell_type": "code",
   "execution_count": 23,
   "id": "fb03fd67",
   "metadata": {},
   "outputs": [],
   "source": [
    "squad_list = [squad_343_strict, squad_442_strict, squad_4312_strict, squad_433_strict, squad_4231_strict]\n",
    "squad_name = ['3-4-3', '4-4-2', '4-3-1-2', '4-3-3', '4-2-3-1']"
   ]
  },
  {
   "cell_type": "code",
   "execution_count": null,
   "id": "37c04221",
   "metadata": {},
   "outputs": [],
   "source": []
  },
  {
   "cell_type": "code",
   "execution_count": 24,
   "id": "b5402b4a",
   "metadata": {},
   "outputs": [],
   "source": [
    "country = pd.DataFrame(np.array(get_summary_n(squad_list, squad_name, list_2022)).reshape(-1,4), columns = ['nationality_name', 'Squad', 'overall', 'potential'])\n",
    "country.set_index('nationality_name', inplace = False)\n",
    "country[['overall', 'potential']] = country[['overall', 'potential']].astype(float)"
   ]
  },
  {
   "cell_type": "code",
   "execution_count": 25,
   "id": "c42a6f3d",
   "metadata": {},
   "outputs": [],
   "source": [
    "# Teams Dataset\n"
   ]
  },
  {
   "cell_type": "code",
   "execution_count": 85,
   "id": "209be1a4",
   "metadata": {},
   "outputs": [
    {
     "data": {
      "text/html": [
       "<div>\n",
       "<style scoped>\n",
       "    .dataframe tbody tr th:only-of-type {\n",
       "        vertical-align: middle;\n",
       "    }\n",
       "\n",
       "    .dataframe tbody tr th {\n",
       "        vertical-align: top;\n",
       "    }\n",
       "\n",
       "    .dataframe thead th {\n",
       "        text-align: right;\n",
       "    }\n",
       "</style>\n",
       "<table border=\"1\" class=\"dataframe\">\n",
       "  <thead>\n",
       "    <tr style=\"text-align: right;\">\n",
       "      <th></th>\n",
       "      <th>nationality_name</th>\n",
       "      <th>Squad</th>\n",
       "      <th>overall</th>\n",
       "      <th>potential</th>\n",
       "    </tr>\n",
       "  </thead>\n",
       "  <tbody>\n",
       "    <tr>\n",
       "      <th>0</th>\n",
       "      <td>France</td>\n",
       "      <td>3-4-3</td>\n",
       "      <td>85.55</td>\n",
       "      <td>89.18</td>\n",
       "    </tr>\n",
       "    <tr>\n",
       "      <th>1</th>\n",
       "      <td>Argentina</td>\n",
       "      <td>3-4-3</td>\n",
       "      <td>83.18</td>\n",
       "      <td>86.00</td>\n",
       "    </tr>\n",
       "    <tr>\n",
       "      <th>2</th>\n",
       "      <td>Croatia</td>\n",
       "      <td>3-4-3</td>\n",
       "      <td>79.55</td>\n",
       "      <td>84.09</td>\n",
       "    </tr>\n",
       "    <tr>\n",
       "      <th>3</th>\n",
       "      <td>Morocco</td>\n",
       "      <td>3-4-3</td>\n",
       "      <td>79.73</td>\n",
       "      <td>81.36</td>\n",
       "    </tr>\n",
       "  </tbody>\n",
       "</table>\n",
       "</div>"
      ],
      "text/plain": [
       "  nationality_name  Squad  overall  potential\n",
       "0           France  3-4-3    85.55      89.18\n",
       "1        Argentina  3-4-3    83.18      86.00\n",
       "2          Croatia  3-4-3    79.55      84.09\n",
       "3          Morocco  3-4-3    79.73      81.36"
      ]
     },
     "execution_count": 85,
     "metadata": {},
     "output_type": "execute_result"
    }
   ],
   "source": [
    "Semi_Finals=['France','Argentina','Morocco','Croatia']\n",
    "\n",
    "\n",
    "# FIFA22_S = FIFA22[[\"short_name\", \"age\", \"nationality_name\", 'overall', 'potential', \"club_name\", \"Position\", \"value_eur\", \"wage_eur\"]]\n",
    "FIFA22_S = country[(country[\"nationality_name\"].apply(lambda x: x in Semi_Finals))]\n",
    "FIFA22_S['nationality_name'].unique()\n",
    "FIFA22_S\n",
    "\n",
    "country_top4 = FIFA22_S.groupby('nationality_name').first().sort_values('potential',ascending=False)[0:10].reset_index()\n",
    "country_top4\n"
   ]
  },
  {
   "cell_type": "code",
   "execution_count": 29,
   "id": "51575968",
   "metadata": {},
   "outputs": [],
   "source": [
    "# visualization\n"
   ]
  },
  {
   "cell_type": "code",
   "execution_count": 86,
   "id": "306b13b8",
   "metadata": {},
   "outputs": [
    {
     "data": {
      "image/png": "[encoded data removed]",
      "text/plain": [
       "<Figure size 432x288 with 1 Axes>"
      ]
     },
     "metadata": {
      "needs_background": "light"
     },
     "output_type": "display_data"
    }
   ],
   "source": [
    "x = country_top4['nationality_name']\n",
    "y = country_top4['potential']\n",
    "\n",
    "# plot\n",
    "ax= sns.barplot(x=y, y=x, color=\"#7F1431\", orient='h')\n",
    "plt.xlabel('Team Potential Ratings', size = 20) \n",
    "plt.ylabel('Team', size = 20 ) \n",
    "plt.title('Top 4 Promising Teams QATAR World Cup')\n",
    "\n",
    "plt.show()"
   ]
  },
  {
   "cell_type": "code",
   "execution_count": 78,
   "id": "21350f36",
   "metadata": {},
   "outputs": [],
   "source": [
    "# Analysis of the best teams s s s s s "
   ]
  },
  {
   "cell_type": "code",
   "execution_count": 104,
   "id": "f27acb0a",
   "metadata": {},
   "outputs": [
    {
     "data": {
      "text/html": [
       "<div>\n",
       "<style scoped>\n",
       "    .dataframe tbody tr th:only-of-type {\n",
       "        vertical-align: middle;\n",
       "    }\n",
       "\n",
       "    .dataframe tbody tr th {\n",
       "        vertical-align: top;\n",
       "    }\n",
       "\n",
       "    .dataframe thead th {\n",
       "        text-align: right;\n",
       "    }\n",
       "</style>\n",
       "<table border=\"1\" class=\"dataframe\">\n",
       "  <thead>\n",
       "    <tr style=\"text-align: right;\">\n",
       "      <th></th>\n",
       "      <th>Nationality</th>\n",
       "      <th>Squad</th>\n",
       "      <th>Overall</th>\n",
       "      <th>Potential</th>\n",
       "    </tr>\n",
       "  </thead>\n",
       "  <tbody>\n",
       "    <tr>\n",
       "      <th>0</th>\n",
       "      <td>France</td>\n",
       "      <td>3-4-3</td>\n",
       "      <td>85.55</td>\n",
       "      <td>89.18</td>\n",
       "    </tr>\n",
       "    <tr>\n",
       "      <th>1</th>\n",
       "      <td>France</td>\n",
       "      <td>4-4-2</td>\n",
       "      <td>85.73</td>\n",
       "      <td>88.73</td>\n",
       "    </tr>\n",
       "    <tr>\n",
       "      <th>2</th>\n",
       "      <td>France</td>\n",
       "      <td>4-3-1-2</td>\n",
       "      <td>86.09</td>\n",
       "      <td>88.91</td>\n",
       "    </tr>\n",
       "    <tr>\n",
       "      <th>3</th>\n",
       "      <td>France</td>\n",
       "      <td>4-3-3</td>\n",
       "      <td>85.64</td>\n",
       "      <td>89.09</td>\n",
       "    </tr>\n",
       "    <tr>\n",
       "      <th>4</th>\n",
       "      <td>France</td>\n",
       "      <td>4-2-3-1</td>\n",
       "      <td>85.64</td>\n",
       "      <td>89.09</td>\n",
       "    </tr>\n",
       "  </tbody>\n",
       "</table>\n",
       "</div>"
      ],
      "text/plain": [
       "  Nationality    Squad  Overall  Potential\n",
       "0      France    3-4-3    85.55      89.18\n",
       "1      France    4-4-2    85.73      88.73\n",
       "2      France  4-3-1-2    86.09      88.91\n",
       "3      France    4-3-3    85.64      89.09\n",
       "4      France  4-2-3-1    85.64      89.09"
      ]
     },
     "execution_count": 104,
     "metadata": {},
     "output_type": "execute_result"
    }
   ],
   "source": [
    "France = pd.DataFrame(np.array(get_summary_n(squad_list, squad_name, ['France'])).reshape(-1,4), columns = ['Nationality', 'Squad', 'Overall', 'Potential'])\n",
    "France.set_index('Nationality', inplace = False)\n",
    "France[['Overall', 'Potential']] = France[['Overall', 'Potential']].astype(float)\n",
    "France"
   ]
  },
  {
   "cell_type": "code",
   "execution_count": 80,
   "id": "7c4a61f6",
   "metadata": {},
   "outputs": [
    {
     "data": {
      "text/html": [
       "<div>\n",
       "<style scoped>\n",
       "    .dataframe tbody tr th:only-of-type {\n",
       "        vertical-align: middle;\n",
       "    }\n",
       "\n",
       "    .dataframe tbody tr th {\n",
       "        vertical-align: top;\n",
       "    }\n",
       "\n",
       "    .dataframe thead th {\n",
       "        text-align: right;\n",
       "    }\n",
       "</style>\n",
       "<table border=\"1\" class=\"dataframe\">\n",
       "  <thead>\n",
       "    <tr style=\"text-align: right;\">\n",
       "      <th></th>\n",
       "      <th>nationality_name</th>\n",
       "      <th>Squad</th>\n",
       "      <th>overall</th>\n",
       "      <th>potential</th>\n",
       "    </tr>\n",
       "  </thead>\n",
       "  <tbody>\n",
       "    <tr>\n",
       "      <th>0</th>\n",
       "      <td>Argentina</td>\n",
       "      <td>3-4-3</td>\n",
       "      <td>83.18</td>\n",
       "      <td>86.00</td>\n",
       "    </tr>\n",
       "    <tr>\n",
       "      <th>1</th>\n",
       "      <td>Argentina</td>\n",
       "      <td>4-4-2</td>\n",
       "      <td>82.45</td>\n",
       "      <td>85.64</td>\n",
       "    </tr>\n",
       "    <tr>\n",
       "      <th>2</th>\n",
       "      <td>Argentina</td>\n",
       "      <td>4-3-1-2</td>\n",
       "      <td>83.36</td>\n",
       "      <td>85.91</td>\n",
       "    </tr>\n",
       "    <tr>\n",
       "      <th>3</th>\n",
       "      <td>Argentina</td>\n",
       "      <td>4-3-3</td>\n",
       "      <td>83.73</td>\n",
       "      <td>86.18</td>\n",
       "    </tr>\n",
       "    <tr>\n",
       "      <th>4</th>\n",
       "      <td>Argentina</td>\n",
       "      <td>4-2-3-1</td>\n",
       "      <td>83.73</td>\n",
       "      <td>86.09</td>\n",
       "    </tr>\n",
       "  </tbody>\n",
       "</table>\n",
       "</div>"
      ],
      "text/plain": [
       "  nationality_name    Squad  overall  potential\n",
       "0        Argentina    3-4-3    83.18      86.00\n",
       "1        Argentina    4-4-2    82.45      85.64\n",
       "2        Argentina  4-3-1-2    83.36      85.91\n",
       "3        Argentina    4-3-3    83.73      86.18\n",
       "4        Argentina  4-2-3-1    83.73      86.09"
      ]
     },
     "execution_count": 80,
     "metadata": {},
     "output_type": "execute_result"
    }
   ],
   "source": [
    "Argentina = pd.DataFrame(np.array(get_summary_n(squad_list, squad_name, ['Argentina'])).reshape(-1,4), columns = ['nationality_name', 'Squad', 'overall', 'potential'])\n",
    "Argentina.set_index('nationality_name', inplace = False)\n",
    "Argentina[['overall', 'potential']] = Argentina[['overall', 'potential']].astype(float)\n",
    "Argentina"
   ]
  },
  {
   "cell_type": "code",
   "execution_count": 99,
   "id": "41a3be1f",
   "metadata": {},
   "outputs": [
    {
     "data": {
      "text/html": [
       "<div>\n",
       "<style scoped>\n",
       "    .dataframe tbody tr th:only-of-type {\n",
       "        vertical-align: middle;\n",
       "    }\n",
       "\n",
       "    .dataframe tbody tr th {\n",
       "        vertical-align: top;\n",
       "    }\n",
       "\n",
       "    .dataframe thead th {\n",
       "        text-align: right;\n",
       "    }\n",
       "</style>\n",
       "<table border=\"1\" class=\"dataframe\">\n",
       "  <thead>\n",
       "    <tr style=\"text-align: right;\">\n",
       "      <th></th>\n",
       "      <th>nationality_name</th>\n",
       "      <th>Squad</th>\n",
       "      <th>overall</th>\n",
       "      <th>potential</th>\n",
       "    </tr>\n",
       "  </thead>\n",
       "  <tbody>\n",
       "    <tr>\n",
       "      <th>0</th>\n",
       "      <td>Morocco</td>\n",
       "      <td>3-4-3</td>\n",
       "      <td>79.73</td>\n",
       "      <td>81.36</td>\n",
       "    </tr>\n",
       "    <tr>\n",
       "      <th>1</th>\n",
       "      <td>Morocco</td>\n",
       "      <td>4-4-2</td>\n",
       "      <td>78.45</td>\n",
       "      <td>81.00</td>\n",
       "    </tr>\n",
       "    <tr>\n",
       "      <th>2</th>\n",
       "      <td>Morocco</td>\n",
       "      <td>4-3-1-2</td>\n",
       "      <td>78.73</td>\n",
       "      <td>80.82</td>\n",
       "    </tr>\n",
       "    <tr>\n",
       "      <th>3</th>\n",
       "      <td>Morocco</td>\n",
       "      <td>4-3-3</td>\n",
       "      <td>79.55</td>\n",
       "      <td>81.45</td>\n",
       "    </tr>\n",
       "    <tr>\n",
       "      <th>4</th>\n",
       "      <td>Morocco</td>\n",
       "      <td>4-2-3-1</td>\n",
       "      <td>79.55</td>\n",
       "      <td>81.45</td>\n",
       "    </tr>\n",
       "  </tbody>\n",
       "</table>\n",
       "</div>"
      ],
      "text/plain": [
       "  nationality_name    Squad  overall  potential\n",
       "0          Morocco    3-4-3    79.73      81.36\n",
       "1          Morocco    4-4-2    78.45      81.00\n",
       "2          Morocco  4-3-1-2    78.73      80.82\n",
       "3          Morocco    4-3-3    79.55      81.45\n",
       "4          Morocco  4-2-3-1    79.55      81.45"
      ]
     },
     "execution_count": 99,
     "metadata": {},
     "output_type": "execute_result"
    }
   ],
   "source": [
    "\n",
    "Morocco = pd.DataFrame(np.array(get_summary_n(squad_list, squad_name, ['Morocco'])).reshape(-1,4), columns = ['nationality_name', 'Squad', 'overall', 'potential'])\n",
    "Morocco.set_index('nationality_name', inplace = False)\n",
    "Morocco[['overall', 'potential']] = Morocco[['overall', 'potential']].astype(float)\n",
    "Morocco"
   ]
  },
  {
   "cell_type": "code",
   "execution_count": 101,
   "id": "d922f9ff",
   "metadata": {},
   "outputs": [
    {
     "data": {
      "text/html": [
       "<div>\n",
       "<style scoped>\n",
       "    .dataframe tbody tr th:only-of-type {\n",
       "        vertical-align: middle;\n",
       "    }\n",
       "\n",
       "    .dataframe tbody tr th {\n",
       "        vertical-align: top;\n",
       "    }\n",
       "\n",
       "    .dataframe thead th {\n",
       "        text-align: right;\n",
       "    }\n",
       "</style>\n",
       "<table border=\"1\" class=\"dataframe\">\n",
       "  <thead>\n",
       "    <tr style=\"text-align: right;\">\n",
       "      <th></th>\n",
       "      <th>nationality_name</th>\n",
       "      <th>Squad</th>\n",
       "      <th>overall</th>\n",
       "      <th>potential</th>\n",
       "    </tr>\n",
       "  </thead>\n",
       "  <tbody>\n",
       "  </tbody>\n",
       "</table>\n",
       "</div>"
      ],
      "text/plain": [
       "Empty DataFrame\n",
       "Columns: [nationality_name, Squad, overall, potential]\n",
       "Index: []"
      ]
     },
     "execution_count": 101,
     "metadata": {},
     "output_type": "execute_result"
    }
   ],
   "source": []
  },
  {
   "cell_type": "code",
   "execution_count": null,
   "id": "3c305727",
   "metadata": {},
   "outputs": [],
   "source": [
    "Croatia = pd.DataFrame(np.array(get_summary_n(squad_list, squad_name, ['Croatia'])).reshape(-1,4), columns = ['nationality_name', 'Squad', 'overall', 'potential'])\n",
    "Croatia.set_index('nationality_name', inplace = False)\n",
    "Croatia[['overall', 'potential']] = Croatia[['overall', 'potential']].astype(float)\n",
    "Croatia"
   ]
  },
  {
   "cell_type": "code",
   "execution_count": null,
   "id": "a813a271",
   "metadata": {},
   "outputs": [],
   "source": []
  }
 ],
 "metadata": {
  "kernelspec": {
   "display_name": "Python 3 (ipykernel)",
   "language": "python",
   "name": "python3"
  },
  "language_info": {
   "codemirror_mode": {
    "name": "ipython",
    "version": 3
   },
   "file_extension": ".py",
   "mimetype": "text/x-python",
   "name": "python",
   "nbconvert_exporter": "python",
   "pygments_lexer": "ipython3",
   "version": "3.8.8"
  }
 },
 "nbformat": 4,
 "nbformat_minor": 5
}
