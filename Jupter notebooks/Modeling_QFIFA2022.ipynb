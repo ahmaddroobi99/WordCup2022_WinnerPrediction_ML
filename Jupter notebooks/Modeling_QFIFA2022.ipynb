{
 "cells": [
  {
   "cell_type": "code",
   "execution_count": 1,
   "id": "1f922217",
   "metadata": {},
   "outputs": [],
   "source": [
    "import numpy as np \n",
    "import pandas as pd\n",
    "import matplotlib.pyplot as plt\n",
    "import seaborn as sns\n",
    "import os"
   ]
  },
  {
   "cell_type": "code",
   "execution_count": 2,
   "id": "3684e4d8",
   "metadata": {},
   "outputs": [
    {
     "data": {
      "text/html": [
       "<div>\n",
       "<style scoped>\n",
       "    .dataframe tbody tr th:only-of-type {\n",
       "        vertical-align: middle;\n",
       "    }\n",
       "\n",
       "    .dataframe tbody tr th {\n",
       "        vertical-align: top;\n",
       "    }\n",
       "\n",
       "    .dataframe thead th {\n",
       "        text-align: right;\n",
       "    }\n",
       "</style>\n",
       "<table border=\"1\" class=\"dataframe\">\n",
       "  <thead>\n",
       "    <tr style=\"text-align: right;\">\n",
       "      <th></th>\n",
       "      <th>Team1</th>\n",
       "      <th>Team2</th>\n",
       "      <th>Team1_FIFA_RANK</th>\n",
       "      <th>Team2_FIFA_RANK</th>\n",
       "      <th>Team1_Result</th>\n",
       "      <th>Team1_Goalkeeper_Score</th>\n",
       "      <th>Team2_Goalkeeper_Score</th>\n",
       "      <th>Team1_Defense</th>\n",
       "      <th>Team1_Offense</th>\n",
       "      <th>Team1_Midfield</th>\n",
       "      <th>Team2_Defense</th>\n",
       "      <th>Team2_Offense</th>\n",
       "      <th>Team2_Midfield</th>\n",
       "    </tr>\n",
       "  </thead>\n",
       "  <tbody>\n",
       "    <tr>\n",
       "      <th>9316</th>\n",
       "      <td>Netherlands</td>\n",
       "      <td>Wales</td>\n",
       "      <td>10</td>\n",
       "      <td>18</td>\n",
       "      <td>1</td>\n",
       "      <td>81.0</td>\n",
       "      <td>74.0</td>\n",
       "      <td>85.0</td>\n",
       "      <td>83.0</td>\n",
       "      <td>84.0</td>\n",
       "      <td>75.0</td>\n",
       "      <td>73.0</td>\n",
       "      <td>78.0</td>\n",
       "    </tr>\n",
       "    <tr>\n",
       "      <th>9317</th>\n",
       "      <td>Poland</td>\n",
       "      <td>Belgium</td>\n",
       "      <td>26</td>\n",
       "      <td>2</td>\n",
       "      <td>0</td>\n",
       "      <td>87.0</td>\n",
       "      <td>89.0</td>\n",
       "      <td>75.0</td>\n",
       "      <td>85.0</td>\n",
       "      <td>76.0</td>\n",
       "      <td>81.0</td>\n",
       "      <td>86.0</td>\n",
       "      <td>86.0</td>\n",
       "    </tr>\n",
       "    <tr>\n",
       "      <th>9318</th>\n",
       "      <td>Chile</td>\n",
       "      <td>Ghana</td>\n",
       "      <td>28</td>\n",
       "      <td>60</td>\n",
       "      <td>0</td>\n",
       "      <td>79.0</td>\n",
       "      <td>74.0</td>\n",
       "      <td>76.0</td>\n",
       "      <td>77.0</td>\n",
       "      <td>78.0</td>\n",
       "      <td>76.0</td>\n",
       "      <td>76.0</td>\n",
       "      <td>78.0</td>\n",
       "    </tr>\n",
       "    <tr>\n",
       "      <th>9319</th>\n",
       "      <td>Japan</td>\n",
       "      <td>Tunisia</td>\n",
       "      <td>23</td>\n",
       "      <td>35</td>\n",
       "      <td>0</td>\n",
       "      <td>73.0</td>\n",
       "      <td>64.0</td>\n",
       "      <td>75.0</td>\n",
       "      <td>75.0</td>\n",
       "      <td>78.0</td>\n",
       "      <td>71.0</td>\n",
       "      <td>72.0</td>\n",
       "      <td>74.0</td>\n",
       "    </tr>\n",
       "    <tr>\n",
       "      <th>9320</th>\n",
       "      <td>Korea Republic</td>\n",
       "      <td>Egypt</td>\n",
       "      <td>29</td>\n",
       "      <td>32</td>\n",
       "      <td>1</td>\n",
       "      <td>75.0</td>\n",
       "      <td>70.0</td>\n",
       "      <td>73.0</td>\n",
       "      <td>80.0</td>\n",
       "      <td>74.0</td>\n",
       "      <td>70.0</td>\n",
       "      <td>79.0</td>\n",
       "      <td>71.0</td>\n",
       "    </tr>\n",
       "  </tbody>\n",
       "</table>\n",
       "</div>"
      ],
      "text/plain": [
       "               Team1    Team2  Team1_FIFA_RANK  Team2_FIFA_RANK  Team1_Result  \\\n",
       "9316     Netherlands    Wales               10               18             1   \n",
       "9317          Poland  Belgium               26                2             0   \n",
       "9318           Chile    Ghana               28               60             0   \n",
       "9319           Japan  Tunisia               23               35             0   \n",
       "9320  Korea Republic    Egypt               29               32             1   \n",
       "\n",
       "      Team1_Goalkeeper_Score  Team2_Goalkeeper_Score  Team1_Defense  \\\n",
       "9316                    81.0                    74.0           85.0   \n",
       "9317                    87.0                    89.0           75.0   \n",
       "9318                    79.0                    74.0           76.0   \n",
       "9319                    73.0                    64.0           75.0   \n",
       "9320                    75.0                    70.0           73.0   \n",
       "\n",
       "      Team1_Offense  Team1_Midfield  Team2_Defense  Team2_Offense  \\\n",
       "9316           83.0            84.0           75.0           73.0   \n",
       "9317           85.0            76.0           81.0           86.0   \n",
       "9318           77.0            78.0           76.0           76.0   \n",
       "9319           75.0            78.0           71.0           72.0   \n",
       "9320           80.0            74.0           70.0           79.0   \n",
       "\n",
       "      Team2_Midfield  \n",
       "9316            78.0  \n",
       "9317            86.0  \n",
       "9318            78.0  \n",
       "9319            74.0  \n",
       "9320            71.0  "
      ]
     },
     "execution_count": 2,
     "metadata": {},
     "output_type": "execute_result"
    }
   ],
   "source": [
    "final_df = pd.read_csv('../Datasets/training.csv')\n",
    "final_df.tail()"
   ]
  },
  {
   "cell_type": "code",
   "execution_count": 3,
   "id": "1d909448",
   "metadata": {},
   "outputs": [],
   "source": [
    "# GROUP STAGE MODELING\n"
   ]
  },
  {
   "cell_type": "code",
   "execution_count": 4,
   "id": "be2fa259",
   "metadata": {},
   "outputs": [],
   "source": [
    "# I save the original data frame in a flag to then train the final pipeline\n",
    "pipe_DF = final_df\n",
    "# Dummies for categorical columns\n",
    "final_df = pd.get_dummies(final_df)"
   ]
  },
  {
   "cell_type": "code",
   "execution_count": 5,
   "id": "b828972b",
   "metadata": {},
   "outputs": [],
   "source": [
    "# I split the dataset into training, testing and validation.\n"
   ]
  },
  {
   "cell_type": "code",
   "execution_count": 6,
   "id": "82edbe7c",
   "metadata": {},
   "outputs": [],
   "source": [
    "X = final_df.drop('Team1_Result',axis=1)\n",
    "y = final_df['Team1_Result']\n",
    "from sklearn.model_selection import train_test_split\n",
    "X_train, X_val, y_train, y_val = train_test_split(X, y, test_size=0.1, random_state=42)\n",
    "X_hold_test, X_test, y_hold_test, y_test = train_test_split(X_val, y_val, test_size=0.5, random_state=42)"
   ]
  },
  {
   "cell_type": "code",
   "execution_count": 8,
   "id": "7c663652",
   "metadata": {},
   "outputs": [],
   "source": [
    "#  Scaling"
   ]
  },
  {
   "cell_type": "code",
   "execution_count": 7,
   "id": "6ecb2f43",
   "metadata": {},
   "outputs": [],
   "source": [
    "from sklearn.preprocessing import StandardScaler\n",
    "scaler = StandardScaler()\n",
    "X_train = scaler.fit_transform(X_train)\n",
    "X_test = scaler.transform(X_test)\n",
    "X_hold_test = scaler.transform(X_hold_test)"
   ]
  },
  {
   "cell_type": "code",
   "execution_count": 9,
   "id": "ba2f79fd",
   "metadata": {},
   "outputs": [],
   "source": [
    "# Defining function to display the confusion matrix quickly."
   ]
  },
  {
   "cell_type": "code",
   "execution_count": 10,
   "id": "9323eda1",
   "metadata": {},
   "outputs": [],
   "source": [
    "from sklearn.metrics import classification_report,ConfusionMatrixDisplay\n",
    "def metrics_display(model):\n",
    "    model.fit(X_train,y_train)\n",
    "    y_pred = model.predict(X_test)\n",
    "    print(classification_report(y_test,y_pred))\n",
    "    ConfusionMatrixDisplay.from_predictions(y_test,y_pred);"
   ]
  },
  {
   "cell_type": "code",
   "execution_count": 11,
   "id": "3c4c59f7",
   "metadata": {},
   "outputs": [],
   "source": [
    "# Random Forest "
   ]
  },
  {
   "cell_type": "code",
   "execution_count": 12,
   "id": "bcbc2f3e",
   "metadata": {},
   "outputs": [
    {
     "name": "stdout",
     "output_type": "stream",
     "text": [
      "              precision    recall  f1-score   support\n",
      "\n",
      "           0       0.49      0.62      0.55       116\n",
      "           1       0.66      0.76      0.71       241\n",
      "           2       0.27      0.10      0.15       110\n",
      "\n",
      "    accuracy                           0.57       467\n",
      "   macro avg       0.47      0.49      0.47       467\n",
      "weighted avg       0.52      0.57      0.53       467\n",
      "\n"
     ]
    },
    {
     "data": {
      "image/png": "[encoded data removed]",
      "text/plain": [
       "<Figure size 432x288 with 2 Axes>"
      ]
     },
     "metadata": {
      "needs_background": "light"
     },
     "output_type": "display_data"
    }
   ],
   "source": [
    "from sklearn.ensemble import RandomForestClassifier\n",
    "metrics_display(RandomForestClassifier())"
   ]
  },
  {
   "cell_type": "code",
   "execution_count": 14,
   "id": "f15c94c5",
   "metadata": {},
   "outputs": [],
   "source": [
    "# Ada Boost Classifier"
   ]
  },
  {
   "cell_type": "code",
   "execution_count": 15,
   "id": "18400b84",
   "metadata": {},
   "outputs": [
    {
     "name": "stdout",
     "output_type": "stream",
     "text": [
      "              precision    recall  f1-score   support\n",
      "\n",
      "           0       0.45      0.50      0.47       116\n",
      "           1       0.62      0.86      0.72       241\n",
      "           2       0.33      0.01      0.02       110\n",
      "\n",
      "    accuracy                           0.57       467\n",
      "   macro avg       0.47      0.46      0.40       467\n",
      "weighted avg       0.51      0.57      0.49       467\n",
      "\n"
     ]
    },
    {
     "data": {
      "image/png": "[encoded data removed]",
      "text/plain": [
       "<Figure size 432x288 with 2 Axes>"
      ]
     },
     "metadata": {
      "needs_background": "light"
     },
     "output_type": "display_data"
    }
   ],
   "source": [
    "from sklearn.ensemble import AdaBoostClassifier\n",
    "metrics_display(AdaBoostClassifier())"
   ]
  },
  {
   "cell_type": "code",
   "execution_count": 16,
   "id": "c39c631c",
   "metadata": {},
   "outputs": [],
   "source": [
    "# XG bossting"
   ]
  },
  {
   "cell_type": "code",
   "execution_count": 17,
   "id": "1bde8e7a",
   "metadata": {},
   "outputs": [
    {
     "name": "stdout",
     "output_type": "stream",
     "text": [
      "              precision    recall  f1-score   support\n",
      "\n",
      "           0       0.45      0.53      0.48       116\n",
      "           1       0.63      0.79      0.70       241\n",
      "           2       0.24      0.05      0.09       110\n",
      "\n",
      "    accuracy                           0.55       467\n",
      "   macro avg       0.44      0.46      0.42       467\n",
      "weighted avg       0.49      0.55      0.50       467\n",
      "\n"
     ]
    },
    {
     "data": {
      "image/png": "[encoded data removed]",
      "text/plain": [
       "<Figure size 432x288 with 2 Axes>"
      ]
     },
     "metadata": {
      "needs_background": "light"
     },
     "output_type": "display_data"
    }
   ],
   "source": [
    "from xgboost import XGBClassifier\n",
    "metrics_display(XGBClassifier(use_label_encoder=False))"
   ]
  },
  {
   "cell_type": "code",
   "execution_count": 18,
   "id": "e7220238",
   "metadata": {},
   "outputs": [],
   "source": [
    "# Neural network"
   ]
  },
  {
   "cell_type": "code",
   "execution_count": 19,
   "id": "f82e454a",
   "metadata": {},
   "outputs": [
    {
     "data": {
      "text/plain": [
       "(8388, 404)"
      ]
     },
     "execution_count": 19,
     "metadata": {},
     "output_type": "execute_result"
    }
   ],
   "source": [
    "import keras\n",
    "from keras import Sequential\n",
    "from keras.layers import Dense,Dropout\n",
    "from keras import Input\n",
    "\n",
    "X_train.shape"
   ]
  },
  {
   "cell_type": "code",
   "execution_count": 20,
   "id": "4becd6de",
   "metadata": {},
   "outputs": [
    {
     "name": "stdout",
     "output_type": "stream",
     "text": [
      "Epoch 1/10\n",
      "210/210 [==============================] - 3s 8ms/step - loss: 0.9983 - accuracy: 0.5352 - val_loss: 0.8913 - val_accuracy: 0.5912\n",
      "Epoch 2/10\n",
      "210/210 [==============================] - 1s 6ms/step - loss: 0.8981 - accuracy: 0.5952 - val_loss: 0.8981 - val_accuracy: 0.5936\n",
      "Epoch 3/10\n",
      "210/210 [==============================] - 1s 6ms/step - loss: 0.8692 - accuracy: 0.5991 - val_loss: 0.8990 - val_accuracy: 0.5870\n",
      "Epoch 4/10\n",
      "210/210 [==============================] - 1s 6ms/step - loss: 0.8550 - accuracy: 0.6095 - val_loss: 0.9081 - val_accuracy: 0.5828\n",
      "Epoch 5/10\n",
      "210/210 [==============================] - 1s 6ms/step - loss: 0.8437 - accuracy: 0.6140 - val_loss: 0.9038 - val_accuracy: 0.5858\n",
      "Epoch 6/10\n",
      "210/210 [==============================] - 1s 6ms/step - loss: 0.8313 - accuracy: 0.6161 - val_loss: 0.9144 - val_accuracy: 0.5882\n",
      "Epoch 7/10\n",
      "210/210 [==============================] - 1s 7ms/step - loss: 0.8257 - accuracy: 0.6189 - val_loss: 0.9118 - val_accuracy: 0.5840\n",
      "Epoch 8/10\n",
      "210/210 [==============================] - 1s 6ms/step - loss: 0.8097 - accuracy: 0.6255 - val_loss: 0.9275 - val_accuracy: 0.5781\n",
      "Epoch 9/10\n",
      "210/210 [==============================] - 1s 6ms/step - loss: 0.8000 - accuracy: 0.6276 - val_loss: 0.9328 - val_accuracy: 0.5870\n",
      "Epoch 10/10\n",
      "210/210 [==============================] - 1s 6ms/step - loss: 0.7952 - accuracy: 0.6314 - val_loss: 0.9458 - val_accuracy: 0.5781\n",
      "              precision    recall  f1-score   support\n",
      "\n",
      "           0       0.51      0.49      0.50       116\n",
      "           1       0.63      0.84      0.72       241\n",
      "           2       0.28      0.08      0.13       110\n",
      "\n",
      "    accuracy                           0.58       467\n",
      "   macro avg       0.47      0.47      0.45       467\n",
      "weighted avg       0.52      0.58      0.53       467\n",
      "\n"
     ]
    },
    {
     "data": {
      "text/plain": [
       "<sklearn.metrics._plot.confusion_matrix.ConfusionMatrixDisplay at 0x256f0a6f400>"
      ]
     },
     "execution_count": 20,
     "metadata": {},
     "output_type": "execute_result"
    },
    {
     "data": {
      "image/png": "[encoded data removed]",
      "text/plain": [
       "<Figure size 432x288 with 2 Axes>"
      ]
     },
     "metadata": {
      "needs_background": "light"
     },
     "output_type": "display_data"
    }
   ],
   "source": [
    "model = Sequential()\n",
    "model.add(Input(shape=(404,)))\n",
    "model.add(Dense(300,activation='relu'))\n",
    "model.add(Dropout(0.3))\n",
    "model.add(Dense(200,activation='relu'))\n",
    "model.add(Dropout(0.3))\n",
    "model.add(Dense(100,activation='relu'))\n",
    "model.add(Dropout(0.3))\n",
    "model.add(Dense(3,activation='softmax'))\n",
    "model.compile(loss='sparse_categorical_crossentropy', optimizer='adam', metrics=['accuracy'])\n",
    "model.fit(X_train,y_train,epochs=10,validation_split=0.2)\n",
    "\n",
    "y_pred1 = model.predict(X_test)\n",
    "y_pred1 = np.argmax(y_pred1,axis=1)\n",
    "print(classification_report(y_test,y_pred1))\n",
    "ConfusionMatrixDisplay.from_predictions(y_test,y_pred1)"
   ]
  },
  {
   "cell_type": "code",
   "execution_count": 21,
   "id": "2f1c3df2",
   "metadata": {},
   "outputs": [],
   "source": [
    "# The XGBoost model performs better than the others, \n",
    "# so I will tune its hyperparameters and evaluate the performance based on the validation dataset."
   ]
  },
  {
   "cell_type": "code",
   "execution_count": 22,
   "id": "456b2c75",
   "metadata": {},
   "outputs": [],
   "source": [
    "from sklearn.model_selection import GridSearchCV\n",
    "from sklearn.metrics import accuracy_score\n",
    "\n",
    "# Make a dictionary of hyperparameter values to search\n",
    "search_space = {\n",
    "    \"n_estimators\" : [200,250,300,350,400,450,500],\n",
    "    \"max_depth\" : [3,4,5,6,7,8,9],\n",
    "    \"gamma\" : [0.001,0.01,0.1],\n",
    "    \"learning_rate\" : [0.001,0.01,0.1]\n",
    "}"
   ]
  },
  {
   "cell_type": "code",
   "execution_count": 23,
   "id": "f873a379",
   "metadata": {},
   "outputs": [],
   "source": [
    "# make a GridSearchCV object\n",
    "GS = GridSearchCV(estimator = XGBClassifier(use_label_encoder=False),\n",
    "                  param_grid = search_space,\n",
    "                  scoring = 'accuracy',\n",
    "                  cv = 5,\n",
    "                  verbose = 4)"
   ]
  },
  {
   "cell_type": "code",
   "execution_count": 24,
   "id": "5d5f5c23",
   "metadata": {},
   "outputs": [
    {
     "name": "stdout",
     "output_type": "stream",
     "text": [
      "Fitting 5 folds for each of 441 candidates, totalling 2205 fits\n",
      "[CV 1/5] END gamma=0.001, learning_rate=0.001, max_depth=3, n_estimators=200;, score=0.604 total time=  22.5s\n",
      "[CV 2/5] END gamma=0.001, learning_rate=0.001, max_depth=3, n_estimators=200;, score=0.595 total time=  22.4s\n",
      "[CV 3/5] END gamma=0.001, learning_rate=0.001, max_depth=3, n_estimators=200;, score=0.580 total time=  25.8s\n",
      "[CV 4/5] END gamma=0.001, learning_rate=0.001, max_depth=3, n_estimators=200;, score=0.585 total time=  32.9s\n",
      "[CV 5/5] END gamma=0.001, learning_rate=0.001, max_depth=3, n_estimators=200;, score=0.571 total time=  29.9s\n",
      "[CV 1/5] END gamma=0.001, learning_rate=0.001, max_depth=3, n_estimators=250;, score=0.604 total time=  34.8s\n",
      "[CV 2/5] END gamma=0.001, learning_rate=0.001, max_depth=3, n_estimators=250;, score=0.598 total time=  29.2s\n",
      "[CV 3/5] END gamma=0.001, learning_rate=0.001, max_depth=3, n_estimators=250;, score=0.580 total time=  41.4s\n",
      "[CV 4/5] END gamma=0.001, learning_rate=0.001, max_depth=3, n_estimators=250;, score=0.588 total time=  36.6s\n",
      "[CV 5/5] END gamma=0.001, learning_rate=0.001, max_depth=3, n_estimators=250;, score=0.571 total time=  26.6s\n",
      "[CV 1/5] END gamma=0.001, learning_rate=0.001, max_depth=3, n_estimators=300;, score=0.603 total time=  32.1s\n",
      "[CV 2/5] END gamma=0.001, learning_rate=0.001, max_depth=3, n_estimators=300;, score=0.601 total time=  31.7s\n",
      "[CV 3/5] END gamma=0.001, learning_rate=0.001, max_depth=3, n_estimators=300;, score=0.579 total time=  35.0s\n",
      "[CV 4/5] END gamma=0.001, learning_rate=0.001, max_depth=3, n_estimators=300;, score=0.587 total time=  36.9s\n",
      "[CV 5/5] END gamma=0.001, learning_rate=0.001, max_depth=3, n_estimators=300;, score=0.570 total time=  37.8s\n",
      "[CV 1/5] END gamma=0.001, learning_rate=0.001, max_depth=3, n_estimators=350;, score=0.602 total time=  48.5s\n",
      "[CV 2/5] END gamma=0.001, learning_rate=0.001, max_depth=3, n_estimators=350;, score=0.601 total time=  52.6s\n"
     ]
    },
    {
     "ename": "KeyboardInterrupt",
     "evalue": "",
     "output_type": "error",
     "traceback": [
      "\u001b[1;31m---------------------------------------------------------------------------\u001b[0m",
      "\u001b[1;31mKeyboardInterrupt\u001b[0m                         Traceback (most recent call last)",
      "\u001b[1;32m~\\AppData\\Local\\Temp/ipykernel_3368/4035713694.py\u001b[0m in \u001b[0;36m<module>\u001b[1;34m\u001b[0m\n\u001b[1;32m----> 1\u001b[1;33m \u001b[0mGS\u001b[0m\u001b[1;33m.\u001b[0m\u001b[0mfit\u001b[0m\u001b[1;33m(\u001b[0m\u001b[0mX_train\u001b[0m\u001b[1;33m,\u001b[0m\u001b[0my_train\u001b[0m\u001b[1;33m)\u001b[0m\u001b[1;33m\u001b[0m\u001b[1;33m\u001b[0m\u001b[0m\n\u001b[0m",
      "\u001b[1;32m~\\anaconda3\\lib\\site-packages\\sklearn\\model_selection\\_search.py\u001b[0m in \u001b[0;36mfit\u001b[1;34m(self, X, y, groups, **fit_params)\u001b[0m\n\u001b[0;32m    889\u001b[0m                 \u001b[1;32mreturn\u001b[0m \u001b[0mresults\u001b[0m\u001b[1;33m\u001b[0m\u001b[1;33m\u001b[0m\u001b[0m\n\u001b[0;32m    890\u001b[0m \u001b[1;33m\u001b[0m\u001b[0m\n\u001b[1;32m--> 891\u001b[1;33m             \u001b[0mself\u001b[0m\u001b[1;33m.\u001b[0m\u001b[0m_run_search\u001b[0m\u001b[1;33m(\u001b[0m\u001b[0mevaluate_candidates\u001b[0m\u001b[1;33m)\u001b[0m\u001b[1;33m\u001b[0m\u001b[1;33m\u001b[0m\u001b[0m\n\u001b[0m\u001b[0;32m    892\u001b[0m \u001b[1;33m\u001b[0m\u001b[0m\n\u001b[0;32m    893\u001b[0m             \u001b[1;31m# multimetric is determined here because in the case of a callable\u001b[0m\u001b[1;33m\u001b[0m\u001b[1;33m\u001b[0m\u001b[1;33m\u001b[0m\u001b[0m\n",
      "\u001b[1;32m~\\anaconda3\\lib\\site-packages\\sklearn\\model_selection\\_search.py\u001b[0m in \u001b[0;36m_run_search\u001b[1;34m(self, evaluate_candidates)\u001b[0m\n\u001b[0;32m   1390\u001b[0m     \u001b[1;32mdef\u001b[0m \u001b[0m_run_search\u001b[0m\u001b[1;33m(\u001b[0m\u001b[0mself\u001b[0m\u001b[1;33m,\u001b[0m \u001b[0mevaluate_candidates\u001b[0m\u001b[1;33m)\u001b[0m\u001b[1;33m:\u001b[0m\u001b[1;33m\u001b[0m\u001b[1;33m\u001b[0m\u001b[0m\n\u001b[0;32m   1391\u001b[0m         \u001b[1;34m\"\"\"Search all candidates in param_grid\"\"\"\u001b[0m\u001b[1;33m\u001b[0m\u001b[1;33m\u001b[0m\u001b[0m\n\u001b[1;32m-> 1392\u001b[1;33m         \u001b[0mevaluate_candidates\u001b[0m\u001b[1;33m(\u001b[0m\u001b[0mParameterGrid\u001b[0m\u001b[1;33m(\u001b[0m\u001b[0mself\u001b[0m\u001b[1;33m.\u001b[0m\u001b[0mparam_grid\u001b[0m\u001b[1;33m)\u001b[0m\u001b[1;33m)\u001b[0m\u001b[1;33m\u001b[0m\u001b[1;33m\u001b[0m\u001b[0m\n\u001b[0m\u001b[0;32m   1393\u001b[0m \u001b[1;33m\u001b[0m\u001b[0m\n\u001b[0;32m   1394\u001b[0m \u001b[1;33m\u001b[0m\u001b[0m\n",
      "\u001b[1;32m~\\anaconda3\\lib\\site-packages\\sklearn\\model_selection\\_search.py\u001b[0m in \u001b[0;36mevaluate_candidates\u001b[1;34m(candidate_params, cv, more_results)\u001b[0m\n\u001b[0;32m    836\u001b[0m                     )\n\u001b[0;32m    837\u001b[0m \u001b[1;33m\u001b[0m\u001b[0m\n\u001b[1;32m--> 838\u001b[1;33m                 out = parallel(\n\u001b[0m\u001b[0;32m    839\u001b[0m                     delayed(_fit_and_score)(\n\u001b[0;32m    840\u001b[0m                         \u001b[0mclone\u001b[0m\u001b[1;33m(\u001b[0m\u001b[0mbase_estimator\u001b[0m\u001b[1;33m)\u001b[0m\u001b[1;33m,\u001b[0m\u001b[1;33m\u001b[0m\u001b[1;33m\u001b[0m\u001b[0m\n",
      "\u001b[1;32m~\\anaconda3\\lib\\site-packages\\joblib\\parallel.py\u001b[0m in \u001b[0;36m__call__\u001b[1;34m(self, iterable)\u001b[0m\n\u001b[0;32m   1044\u001b[0m                 \u001b[0mself\u001b[0m\u001b[1;33m.\u001b[0m\u001b[0m_iterating\u001b[0m \u001b[1;33m=\u001b[0m \u001b[0mself\u001b[0m\u001b[1;33m.\u001b[0m\u001b[0m_original_iterator\u001b[0m \u001b[1;32mis\u001b[0m \u001b[1;32mnot\u001b[0m \u001b[1;32mNone\u001b[0m\u001b[1;33m\u001b[0m\u001b[1;33m\u001b[0m\u001b[0m\n\u001b[0;32m   1045\u001b[0m \u001b[1;33m\u001b[0m\u001b[0m\n\u001b[1;32m-> 1046\u001b[1;33m             \u001b[1;32mwhile\u001b[0m \u001b[0mself\u001b[0m\u001b[1;33m.\u001b[0m\u001b[0mdispatch_one_batch\u001b[0m\u001b[1;33m(\u001b[0m\u001b[0miterator\u001b[0m\u001b[1;33m)\u001b[0m\u001b[1;33m:\u001b[0m\u001b[1;33m\u001b[0m\u001b[1;33m\u001b[0m\u001b[0m\n\u001b[0m\u001b[0;32m   1047\u001b[0m                 \u001b[1;32mpass\u001b[0m\u001b[1;33m\u001b[0m\u001b[1;33m\u001b[0m\u001b[0m\n\u001b[0;32m   1048\u001b[0m \u001b[1;33m\u001b[0m\u001b[0m\n",
      "\u001b[1;32m~\\anaconda3\\lib\\site-packages\\joblib\\parallel.py\u001b[0m in \u001b[0;36mdispatch_one_batch\u001b[1;34m(self, iterator)\u001b[0m\n\u001b[0;32m    859\u001b[0m                 \u001b[1;32mreturn\u001b[0m \u001b[1;32mFalse\u001b[0m\u001b[1;33m\u001b[0m\u001b[1;33m\u001b[0m\u001b[0m\n\u001b[0;32m    860\u001b[0m             \u001b[1;32melse\u001b[0m\u001b[1;33m:\u001b[0m\u001b[1;33m\u001b[0m\u001b[1;33m\u001b[0m\u001b[0m\n\u001b[1;32m--> 861\u001b[1;33m                 \u001b[0mself\u001b[0m\u001b[1;33m.\u001b[0m\u001b[0m_dispatch\u001b[0m\u001b[1;33m(\u001b[0m\u001b[0mtasks\u001b[0m\u001b[1;33m)\u001b[0m\u001b[1;33m\u001b[0m\u001b[1;33m\u001b[0m\u001b[0m\n\u001b[0m\u001b[0;32m    862\u001b[0m                 \u001b[1;32mreturn\u001b[0m \u001b[1;32mTrue\u001b[0m\u001b[1;33m\u001b[0m\u001b[1;33m\u001b[0m\u001b[0m\n\u001b[0;32m    863\u001b[0m \u001b[1;33m\u001b[0m\u001b[0m\n",
      "\u001b[1;32m~\\anaconda3\\lib\\site-packages\\joblib\\parallel.py\u001b[0m in \u001b[0;36m_dispatch\u001b[1;34m(self, batch)\u001b[0m\n\u001b[0;32m    777\u001b[0m         \u001b[1;32mwith\u001b[0m \u001b[0mself\u001b[0m\u001b[1;33m.\u001b[0m\u001b[0m_lock\u001b[0m\u001b[1;33m:\u001b[0m\u001b[1;33m\u001b[0m\u001b[1;33m\u001b[0m\u001b[0m\n\u001b[0;32m    778\u001b[0m             \u001b[0mjob_idx\u001b[0m \u001b[1;33m=\u001b[0m \u001b[0mlen\u001b[0m\u001b[1;33m(\u001b[0m\u001b[0mself\u001b[0m\u001b[1;33m.\u001b[0m\u001b[0m_jobs\u001b[0m\u001b[1;33m)\u001b[0m\u001b[1;33m\u001b[0m\u001b[1;33m\u001b[0m\u001b[0m\n\u001b[1;32m--> 779\u001b[1;33m             \u001b[0mjob\u001b[0m \u001b[1;33m=\u001b[0m \u001b[0mself\u001b[0m\u001b[1;33m.\u001b[0m\u001b[0m_backend\u001b[0m\u001b[1;33m.\u001b[0m\u001b[0mapply_async\u001b[0m\u001b[1;33m(\u001b[0m\u001b[0mbatch\u001b[0m\u001b[1;33m,\u001b[0m \u001b[0mcallback\u001b[0m\u001b[1;33m=\u001b[0m\u001b[0mcb\u001b[0m\u001b[1;33m)\u001b[0m\u001b[1;33m\u001b[0m\u001b[1;33m\u001b[0m\u001b[0m\n\u001b[0m\u001b[0;32m    780\u001b[0m             \u001b[1;31m# A job can complete so quickly than its callback is\u001b[0m\u001b[1;33m\u001b[0m\u001b[1;33m\u001b[0m\u001b[1;33m\u001b[0m\u001b[0m\n\u001b[0;32m    781\u001b[0m             \u001b[1;31m# called before we get here, causing self._jobs to\u001b[0m\u001b[1;33m\u001b[0m\u001b[1;33m\u001b[0m\u001b[1;33m\u001b[0m\u001b[0m\n",
      "\u001b[1;32m~\\anaconda3\\lib\\site-packages\\joblib\\_parallel_backends.py\u001b[0m in \u001b[0;36mapply_async\u001b[1;34m(self, func, callback)\u001b[0m\n\u001b[0;32m    206\u001b[0m     \u001b[1;32mdef\u001b[0m \u001b[0mapply_async\u001b[0m\u001b[1;33m(\u001b[0m\u001b[0mself\u001b[0m\u001b[1;33m,\u001b[0m \u001b[0mfunc\u001b[0m\u001b[1;33m,\u001b[0m \u001b[0mcallback\u001b[0m\u001b[1;33m=\u001b[0m\u001b[1;32mNone\u001b[0m\u001b[1;33m)\u001b[0m\u001b[1;33m:\u001b[0m\u001b[1;33m\u001b[0m\u001b[1;33m\u001b[0m\u001b[0m\n\u001b[0;32m    207\u001b[0m         \u001b[1;34m\"\"\"Schedule a func to be run\"\"\"\u001b[0m\u001b[1;33m\u001b[0m\u001b[1;33m\u001b[0m\u001b[0m\n\u001b[1;32m--> 208\u001b[1;33m         \u001b[0mresult\u001b[0m \u001b[1;33m=\u001b[0m \u001b[0mImmediateResult\u001b[0m\u001b[1;33m(\u001b[0m\u001b[0mfunc\u001b[0m\u001b[1;33m)\u001b[0m\u001b[1;33m\u001b[0m\u001b[1;33m\u001b[0m\u001b[0m\n\u001b[0m\u001b[0;32m    209\u001b[0m         \u001b[1;32mif\u001b[0m \u001b[0mcallback\u001b[0m\u001b[1;33m:\u001b[0m\u001b[1;33m\u001b[0m\u001b[1;33m\u001b[0m\u001b[0m\n\u001b[0;32m    210\u001b[0m             \u001b[0mcallback\u001b[0m\u001b[1;33m(\u001b[0m\u001b[0mresult\u001b[0m\u001b[1;33m)\u001b[0m\u001b[1;33m\u001b[0m\u001b[1;33m\u001b[0m\u001b[0m\n",
      "\u001b[1;32m~\\anaconda3\\lib\\site-packages\\joblib\\_parallel_backends.py\u001b[0m in \u001b[0;36m__init__\u001b[1;34m(self, batch)\u001b[0m\n\u001b[0;32m    570\u001b[0m         \u001b[1;31m# Don't delay the application, to avoid keeping the input\u001b[0m\u001b[1;33m\u001b[0m\u001b[1;33m\u001b[0m\u001b[1;33m\u001b[0m\u001b[0m\n\u001b[0;32m    571\u001b[0m         \u001b[1;31m# arguments in memory\u001b[0m\u001b[1;33m\u001b[0m\u001b[1;33m\u001b[0m\u001b[1;33m\u001b[0m\u001b[0m\n\u001b[1;32m--> 572\u001b[1;33m         \u001b[0mself\u001b[0m\u001b[1;33m.\u001b[0m\u001b[0mresults\u001b[0m \u001b[1;33m=\u001b[0m \u001b[0mbatch\u001b[0m\u001b[1;33m(\u001b[0m\u001b[1;33m)\u001b[0m\u001b[1;33m\u001b[0m\u001b[1;33m\u001b[0m\u001b[0m\n\u001b[0m\u001b[0;32m    573\u001b[0m \u001b[1;33m\u001b[0m\u001b[0m\n\u001b[0;32m    574\u001b[0m     \u001b[1;32mdef\u001b[0m \u001b[0mget\u001b[0m\u001b[1;33m(\u001b[0m\u001b[0mself\u001b[0m\u001b[1;33m)\u001b[0m\u001b[1;33m:\u001b[0m\u001b[1;33m\u001b[0m\u001b[1;33m\u001b[0m\u001b[0m\n",
      "\u001b[1;32m~\\anaconda3\\lib\\site-packages\\joblib\\parallel.py\u001b[0m in \u001b[0;36m__call__\u001b[1;34m(self)\u001b[0m\n\u001b[0;32m    260\u001b[0m         \u001b[1;31m# change the default number of processes to -1\u001b[0m\u001b[1;33m\u001b[0m\u001b[1;33m\u001b[0m\u001b[1;33m\u001b[0m\u001b[0m\n\u001b[0;32m    261\u001b[0m         \u001b[1;32mwith\u001b[0m \u001b[0mparallel_backend\u001b[0m\u001b[1;33m(\u001b[0m\u001b[0mself\u001b[0m\u001b[1;33m.\u001b[0m\u001b[0m_backend\u001b[0m\u001b[1;33m,\u001b[0m \u001b[0mn_jobs\u001b[0m\u001b[1;33m=\u001b[0m\u001b[0mself\u001b[0m\u001b[1;33m.\u001b[0m\u001b[0m_n_jobs\u001b[0m\u001b[1;33m)\u001b[0m\u001b[1;33m:\u001b[0m\u001b[1;33m\u001b[0m\u001b[1;33m\u001b[0m\u001b[0m\n\u001b[1;32m--> 262\u001b[1;33m             return [func(*args, **kwargs)\n\u001b[0m\u001b[0;32m    263\u001b[0m                     for func, args, kwargs in self.items]\n\u001b[0;32m    264\u001b[0m \u001b[1;33m\u001b[0m\u001b[0m\n",
      "\u001b[1;32m~\\anaconda3\\lib\\site-packages\\joblib\\parallel.py\u001b[0m in \u001b[0;36m<listcomp>\u001b[1;34m(.0)\u001b[0m\n\u001b[0;32m    260\u001b[0m         \u001b[1;31m# change the default number of processes to -1\u001b[0m\u001b[1;33m\u001b[0m\u001b[1;33m\u001b[0m\u001b[1;33m\u001b[0m\u001b[0m\n\u001b[0;32m    261\u001b[0m         \u001b[1;32mwith\u001b[0m \u001b[0mparallel_backend\u001b[0m\u001b[1;33m(\u001b[0m\u001b[0mself\u001b[0m\u001b[1;33m.\u001b[0m\u001b[0m_backend\u001b[0m\u001b[1;33m,\u001b[0m \u001b[0mn_jobs\u001b[0m\u001b[1;33m=\u001b[0m\u001b[0mself\u001b[0m\u001b[1;33m.\u001b[0m\u001b[0m_n_jobs\u001b[0m\u001b[1;33m)\u001b[0m\u001b[1;33m:\u001b[0m\u001b[1;33m\u001b[0m\u001b[1;33m\u001b[0m\u001b[0m\n\u001b[1;32m--> 262\u001b[1;33m             return [func(*args, **kwargs)\n\u001b[0m\u001b[0;32m    263\u001b[0m                     for func, args, kwargs in self.items]\n\u001b[0;32m    264\u001b[0m \u001b[1;33m\u001b[0m\u001b[0m\n",
      "\u001b[1;32m~\\anaconda3\\lib\\site-packages\\sklearn\\utils\\fixes.py\u001b[0m in \u001b[0;36m__call__\u001b[1;34m(self, *args, **kwargs)\u001b[0m\n\u001b[0;32m    209\u001b[0m     \u001b[1;32mdef\u001b[0m \u001b[0m__call__\u001b[0m\u001b[1;33m(\u001b[0m\u001b[0mself\u001b[0m\u001b[1;33m,\u001b[0m \u001b[1;33m*\u001b[0m\u001b[0margs\u001b[0m\u001b[1;33m,\u001b[0m \u001b[1;33m**\u001b[0m\u001b[0mkwargs\u001b[0m\u001b[1;33m)\u001b[0m\u001b[1;33m:\u001b[0m\u001b[1;33m\u001b[0m\u001b[1;33m\u001b[0m\u001b[0m\n\u001b[0;32m    210\u001b[0m         \u001b[1;32mwith\u001b[0m \u001b[0mconfig_context\u001b[0m\u001b[1;33m(\u001b[0m\u001b[1;33m**\u001b[0m\u001b[0mself\u001b[0m\u001b[1;33m.\u001b[0m\u001b[0mconfig\u001b[0m\u001b[1;33m)\u001b[0m\u001b[1;33m:\u001b[0m\u001b[1;33m\u001b[0m\u001b[1;33m\u001b[0m\u001b[0m\n\u001b[1;32m--> 211\u001b[1;33m             \u001b[1;32mreturn\u001b[0m \u001b[0mself\u001b[0m\u001b[1;33m.\u001b[0m\u001b[0mfunction\u001b[0m\u001b[1;33m(\u001b[0m\u001b[1;33m*\u001b[0m\u001b[0margs\u001b[0m\u001b[1;33m,\u001b[0m \u001b[1;33m**\u001b[0m\u001b[0mkwargs\u001b[0m\u001b[1;33m)\u001b[0m\u001b[1;33m\u001b[0m\u001b[1;33m\u001b[0m\u001b[0m\n\u001b[0m\u001b[0;32m    212\u001b[0m \u001b[1;33m\u001b[0m\u001b[0m\n\u001b[0;32m    213\u001b[0m \u001b[1;33m\u001b[0m\u001b[0m\n",
      "\u001b[1;32m~\\anaconda3\\lib\\site-packages\\sklearn\\model_selection\\_validation.py\u001b[0m in \u001b[0;36m_fit_and_score\u001b[1;34m(estimator, X, y, scorer, train, test, verbose, parameters, fit_params, return_train_score, return_parameters, return_n_test_samples, return_times, return_estimator, split_progress, candidate_progress, error_score)\u001b[0m\n\u001b[0;32m    679\u001b[0m             \u001b[0mestimator\u001b[0m\u001b[1;33m.\u001b[0m\u001b[0mfit\u001b[0m\u001b[1;33m(\u001b[0m\u001b[0mX_train\u001b[0m\u001b[1;33m,\u001b[0m \u001b[1;33m**\u001b[0m\u001b[0mfit_params\u001b[0m\u001b[1;33m)\u001b[0m\u001b[1;33m\u001b[0m\u001b[1;33m\u001b[0m\u001b[0m\n\u001b[0;32m    680\u001b[0m         \u001b[1;32melse\u001b[0m\u001b[1;33m:\u001b[0m\u001b[1;33m\u001b[0m\u001b[1;33m\u001b[0m\u001b[0m\n\u001b[1;32m--> 681\u001b[1;33m             \u001b[0mestimator\u001b[0m\u001b[1;33m.\u001b[0m\u001b[0mfit\u001b[0m\u001b[1;33m(\u001b[0m\u001b[0mX_train\u001b[0m\u001b[1;33m,\u001b[0m \u001b[0my_train\u001b[0m\u001b[1;33m,\u001b[0m \u001b[1;33m**\u001b[0m\u001b[0mfit_params\u001b[0m\u001b[1;33m)\u001b[0m\u001b[1;33m\u001b[0m\u001b[1;33m\u001b[0m\u001b[0m\n\u001b[0m\u001b[0;32m    682\u001b[0m \u001b[1;33m\u001b[0m\u001b[0m\n\u001b[0;32m    683\u001b[0m     \u001b[1;32mexcept\u001b[0m \u001b[0mException\u001b[0m\u001b[1;33m:\u001b[0m\u001b[1;33m\u001b[0m\u001b[1;33m\u001b[0m\u001b[0m\n",
      "\u001b[1;32m~\\anaconda3\\lib\\site-packages\\xgboost\\core.py\u001b[0m in \u001b[0;36minner_f\u001b[1;34m(*args, **kwargs)\u001b[0m\n\u001b[0;32m    530\u001b[0m         \u001b[1;32mfor\u001b[0m \u001b[0mk\u001b[0m\u001b[1;33m,\u001b[0m \u001b[0marg\u001b[0m \u001b[1;32min\u001b[0m \u001b[0mzip\u001b[0m\u001b[1;33m(\u001b[0m\u001b[0msig\u001b[0m\u001b[1;33m.\u001b[0m\u001b[0mparameters\u001b[0m\u001b[1;33m,\u001b[0m \u001b[0margs\u001b[0m\u001b[1;33m)\u001b[0m\u001b[1;33m:\u001b[0m\u001b[1;33m\u001b[0m\u001b[1;33m\u001b[0m\u001b[0m\n\u001b[0;32m    531\u001b[0m             \u001b[0mkwargs\u001b[0m\u001b[1;33m[\u001b[0m\u001b[0mk\u001b[0m\u001b[1;33m]\u001b[0m \u001b[1;33m=\u001b[0m \u001b[0marg\u001b[0m\u001b[1;33m\u001b[0m\u001b[1;33m\u001b[0m\u001b[0m\n\u001b[1;32m--> 532\u001b[1;33m         \u001b[1;32mreturn\u001b[0m \u001b[0mf\u001b[0m\u001b[1;33m(\u001b[0m\u001b[1;33m**\u001b[0m\u001b[0mkwargs\u001b[0m\u001b[1;33m)\u001b[0m\u001b[1;33m\u001b[0m\u001b[1;33m\u001b[0m\u001b[0m\n\u001b[0m\u001b[0;32m    533\u001b[0m \u001b[1;33m\u001b[0m\u001b[0m\n\u001b[0;32m    534\u001b[0m     \u001b[1;32mreturn\u001b[0m \u001b[0minner_f\u001b[0m\u001b[1;33m\u001b[0m\u001b[1;33m\u001b[0m\u001b[0m\n",
      "\u001b[1;32m~\\anaconda3\\lib\\site-packages\\xgboost\\sklearn.py\u001b[0m in \u001b[0;36mfit\u001b[1;34m(self, X, y, sample_weight, base_margin, eval_set, eval_metric, early_stopping_rounds, verbose, xgb_model, sample_weight_eval_set, base_margin_eval_set, feature_weights, callbacks)\u001b[0m\n\u001b[0;32m   1398\u001b[0m         )\n\u001b[0;32m   1399\u001b[0m \u001b[1;33m\u001b[0m\u001b[0m\n\u001b[1;32m-> 1400\u001b[1;33m         self._Booster = train(\n\u001b[0m\u001b[0;32m   1401\u001b[0m             \u001b[0mparams\u001b[0m\u001b[1;33m,\u001b[0m\u001b[1;33m\u001b[0m\u001b[1;33m\u001b[0m\u001b[0m\n\u001b[0;32m   1402\u001b[0m             \u001b[0mtrain_dmatrix\u001b[0m\u001b[1;33m,\u001b[0m\u001b[1;33m\u001b[0m\u001b[1;33m\u001b[0m\u001b[0m\n",
      "\u001b[1;32m~\\anaconda3\\lib\\site-packages\\xgboost\\core.py\u001b[0m in \u001b[0;36minner_f\u001b[1;34m(*args, **kwargs)\u001b[0m\n\u001b[0;32m    530\u001b[0m         \u001b[1;32mfor\u001b[0m \u001b[0mk\u001b[0m\u001b[1;33m,\u001b[0m \u001b[0marg\u001b[0m \u001b[1;32min\u001b[0m \u001b[0mzip\u001b[0m\u001b[1;33m(\u001b[0m\u001b[0msig\u001b[0m\u001b[1;33m.\u001b[0m\u001b[0mparameters\u001b[0m\u001b[1;33m,\u001b[0m \u001b[0margs\u001b[0m\u001b[1;33m)\u001b[0m\u001b[1;33m:\u001b[0m\u001b[1;33m\u001b[0m\u001b[1;33m\u001b[0m\u001b[0m\n\u001b[0;32m    531\u001b[0m             \u001b[0mkwargs\u001b[0m\u001b[1;33m[\u001b[0m\u001b[0mk\u001b[0m\u001b[1;33m]\u001b[0m \u001b[1;33m=\u001b[0m \u001b[0marg\u001b[0m\u001b[1;33m\u001b[0m\u001b[1;33m\u001b[0m\u001b[0m\n\u001b[1;32m--> 532\u001b[1;33m         \u001b[1;32mreturn\u001b[0m \u001b[0mf\u001b[0m\u001b[1;33m(\u001b[0m\u001b[1;33m**\u001b[0m\u001b[0mkwargs\u001b[0m\u001b[1;33m)\u001b[0m\u001b[1;33m\u001b[0m\u001b[1;33m\u001b[0m\u001b[0m\n\u001b[0m\u001b[0;32m    533\u001b[0m \u001b[1;33m\u001b[0m\u001b[0m\n\u001b[0;32m    534\u001b[0m     \u001b[1;32mreturn\u001b[0m \u001b[0minner_f\u001b[0m\u001b[1;33m\u001b[0m\u001b[1;33m\u001b[0m\u001b[0m\n",
      "\u001b[1;32m~\\anaconda3\\lib\\site-packages\\xgboost\\training.py\u001b[0m in \u001b[0;36mtrain\u001b[1;34m(params, dtrain, num_boost_round, evals, obj, feval, maximize, early_stopping_rounds, evals_result, verbose_eval, xgb_model, callbacks, custom_metric)\u001b[0m\n\u001b[0;32m    179\u001b[0m         \u001b[1;32mif\u001b[0m \u001b[0mcb_container\u001b[0m\u001b[1;33m.\u001b[0m\u001b[0mbefore_iteration\u001b[0m\u001b[1;33m(\u001b[0m\u001b[0mbst\u001b[0m\u001b[1;33m,\u001b[0m \u001b[0mi\u001b[0m\u001b[1;33m,\u001b[0m \u001b[0mdtrain\u001b[0m\u001b[1;33m,\u001b[0m \u001b[0mevals\u001b[0m\u001b[1;33m)\u001b[0m\u001b[1;33m:\u001b[0m\u001b[1;33m\u001b[0m\u001b[1;33m\u001b[0m\u001b[0m\n\u001b[0;32m    180\u001b[0m             \u001b[1;32mbreak\u001b[0m\u001b[1;33m\u001b[0m\u001b[1;33m\u001b[0m\u001b[0m\n\u001b[1;32m--> 181\u001b[1;33m         \u001b[0mbst\u001b[0m\u001b[1;33m.\u001b[0m\u001b[0mupdate\u001b[0m\u001b[1;33m(\u001b[0m\u001b[0mdtrain\u001b[0m\u001b[1;33m,\u001b[0m \u001b[0mi\u001b[0m\u001b[1;33m,\u001b[0m \u001b[0mobj\u001b[0m\u001b[1;33m)\u001b[0m\u001b[1;33m\u001b[0m\u001b[1;33m\u001b[0m\u001b[0m\n\u001b[0m\u001b[0;32m    182\u001b[0m         \u001b[1;32mif\u001b[0m \u001b[0mcb_container\u001b[0m\u001b[1;33m.\u001b[0m\u001b[0mafter_iteration\u001b[0m\u001b[1;33m(\u001b[0m\u001b[0mbst\u001b[0m\u001b[1;33m,\u001b[0m \u001b[0mi\u001b[0m\u001b[1;33m,\u001b[0m \u001b[0mdtrain\u001b[0m\u001b[1;33m,\u001b[0m \u001b[0mevals\u001b[0m\u001b[1;33m)\u001b[0m\u001b[1;33m:\u001b[0m\u001b[1;33m\u001b[0m\u001b[1;33m\u001b[0m\u001b[0m\n\u001b[0;32m    183\u001b[0m             \u001b[1;32mbreak\u001b[0m\u001b[1;33m\u001b[0m\u001b[1;33m\u001b[0m\u001b[0m\n",
      "\u001b[1;32m~\\anaconda3\\lib\\site-packages\\xgboost\\core.py\u001b[0m in \u001b[0;36mupdate\u001b[1;34m(self, dtrain, iteration, fobj)\u001b[0m\n\u001b[0;32m   1731\u001b[0m \u001b[1;33m\u001b[0m\u001b[0m\n\u001b[0;32m   1732\u001b[0m         \u001b[1;32mif\u001b[0m \u001b[0mfobj\u001b[0m \u001b[1;32mis\u001b[0m \u001b[1;32mNone\u001b[0m\u001b[1;33m:\u001b[0m\u001b[1;33m\u001b[0m\u001b[1;33m\u001b[0m\u001b[0m\n\u001b[1;32m-> 1733\u001b[1;33m             _check_call(_LIB.XGBoosterUpdateOneIter(self.handle,\n\u001b[0m\u001b[0;32m   1734\u001b[0m                                                     \u001b[0mctypes\u001b[0m\u001b[1;33m.\u001b[0m\u001b[0mc_int\u001b[0m\u001b[1;33m(\u001b[0m\u001b[0miteration\u001b[0m\u001b[1;33m)\u001b[0m\u001b[1;33m,\u001b[0m\u001b[1;33m\u001b[0m\u001b[1;33m\u001b[0m\u001b[0m\n\u001b[0;32m   1735\u001b[0m                                                     dtrain.handle))\n",
      "\u001b[1;31mKeyboardInterrupt\u001b[0m: "
     ]
    }
   ],
   "source": [
    "GS.fit(X_train,y_train)"
   ]
  },
  {
   "cell_type": "code",
   "execution_count": 25,
   "id": "91d13474",
   "metadata": {},
   "outputs": [
    {
     "ename": "AttributeError",
     "evalue": "'GridSearchCV' object has no attribute 'best_params_'",
     "output_type": "error",
     "traceback": [
      "\u001b[1;31m---------------------------------------------------------------------------\u001b[0m",
      "\u001b[1;31mAttributeError\u001b[0m                            Traceback (most recent call last)",
      "\u001b[1;32m~\\AppData\\Local\\Temp/ipykernel_3368/3178660953.py\u001b[0m in \u001b[0;36m<module>\u001b[1;34m\u001b[0m\n\u001b[1;32m----> 1\u001b[1;33m \u001b[0mprint\u001b[0m\u001b[1;33m(\u001b[0m\u001b[0mGS\u001b[0m\u001b[1;33m.\u001b[0m\u001b[0mbest_params_\u001b[0m\u001b[1;33m)\u001b[0m\u001b[1;33m\u001b[0m\u001b[1;33m\u001b[0m\u001b[0m\n\u001b[0m",
      "\u001b[1;31mAttributeError\u001b[0m: 'GridSearchCV' object has no attribute 'best_params_'"
     ]
    }
   ],
   "source": [
    "# print(GS.best_params_) "
   ]
  },
  {
   "cell_type": "code",
   "execution_count": 26,
   "id": "9430cabb",
   "metadata": {},
   "outputs": [],
   "source": [
    "# Initially, I validate the model with its default parameters, and then I will validate it with its tuned parameters."
   ]
  },
  {
   "cell_type": "code",
   "execution_count": 27,
   "id": "d9251af4",
   "metadata": {},
   "outputs": [
    {
     "name": "stdout",
     "output_type": "stream",
     "text": [
      "              precision    recall  f1-score   support\n",
      "\n",
      "           0       0.58      0.60      0.59       121\n",
      "           1       0.66      0.84      0.74       240\n",
      "           2       0.35      0.11      0.17       105\n",
      "\n",
      "    accuracy                           0.62       466\n",
      "   macro avg       0.53      0.52      0.50       466\n",
      "weighted avg       0.57      0.62      0.57       466\n",
      "\n"
     ]
    },
    {
     "data": {
      "image/png": "[encoded data removed]",
      "text/plain": [
       "<Figure size 432x288 with 2 Axes>"
      ]
     },
     "metadata": {
      "needs_background": "light"
     },
     "output_type": "display_data"
    }
   ],
   "source": [
    "model = XGBClassifier()\n",
    "model.fit(X_train,y_train)\n",
    "y_pred = model.predict(X_hold_test)\n",
    "print(classification_report(y_hold_test,y_pred))\n",
    "ConfusionMatrixDisplay.from_predictions(y_hold_test,y_pred);"
   ]
  },
  {
   "cell_type": "code",
   "execution_count": 28,
   "id": "de59a6c1",
   "metadata": {},
   "outputs": [],
   "source": [
    "# Tuned Hyperparameters"
   ]
  },
  {
   "cell_type": "code",
   "execution_count": 29,
   "id": "66c446f8",
   "metadata": {},
   "outputs": [
    {
     "name": "stdout",
     "output_type": "stream",
     "text": [
      "              precision    recall  f1-score   support\n",
      "\n",
      "           0       0.57      0.63      0.60       121\n",
      "           1       0.64      0.88      0.75       240\n",
      "           2       0.25      0.01      0.02       105\n",
      "\n",
      "    accuracy                           0.62       466\n",
      "   macro avg       0.49      0.51      0.45       466\n",
      "weighted avg       0.54      0.62      0.54       466\n",
      "\n"
     ]
    },
    {
     "data": {
      "image/png": "[encoded data removed]",
      "text/plain": [
       "<Figure size 432x288 with 2 Axes>"
      ]
     },
     "metadata": {
      "needs_background": "light"
     },
     "output_type": "display_data"
    }
   ],
   "source": [
    "model = XGBClassifier(use_label_encoder = False, gamma = 0.01, learning_rate = 0.01, n_estimators = 300, max_depth = 4)\n",
    "model.fit(X_train,y_train)\n",
    "y_pred = model.predict(X_hold_test)\n",
    "print(classification_report(y_hold_test,y_pred))\n",
    "ConfusionMatrixDisplay.from_predictions(y_hold_test,y_pred);"
   ]
  },
  {
   "cell_type": "code",
   "execution_count": 30,
   "id": "c3c7c82a",
   "metadata": {},
   "outputs": [],
   "source": [
    "# The model improves a bit, so I will create a pipe to use the model later easily."
   ]
  },
  {
   "cell_type": "code",
   "execution_count": null,
   "id": "ba27f514",
   "metadata": {},
   "outputs": [],
   "source": []
  },
  {
   "cell_type": "code",
   "execution_count": 31,
   "id": "c3e85b87",
   "metadata": {},
   "outputs": [],
   "source": [
    "# Creating a pipeline for the XGB model"
   ]
  },
  {
   "cell_type": "code",
   "execution_count": null,
   "id": "f70d2ca9",
   "metadata": {},
   "outputs": [],
   "source": []
  },
  {
   "cell_type": "code",
   "execution_count": 32,
   "id": "1f3e08e2",
   "metadata": {},
   "outputs": [
    {
     "data": {
      "text/plain": [
       "Pipeline(steps=[('columntransformer',\n",
       "                 ColumnTransformer(remainder='passthrough',\n",
       "                                   transformers=[('onehotencoder',\n",
       "                                                  OneHotEncoder(),\n",
       "                                                  ['Team1', 'Team2'])])),\n",
       "                ('standardscaler', StandardScaler(with_mean=False)),\n",
       "                ('xgbclassifier',\n",
       "                 XGBClassifier(base_score=0.5, booster='gbtree', callbacks=None,\n",
       "                               colsample_bylevel=1, colsample_bynode=1,\n",
       "                               colsample_bytree=1, early_stopping_...\n",
       "                               gamma=0.01, gpu_id=-1, grow_policy='depthwise',\n",
       "                               importance_type=None, interaction_constraints='',\n",
       "                               learning_rate=0.01, max_bin=256,\n",
       "                               max_cat_to_onehot=4, max_delta_step=0,\n",
       "                               max_depth=4, max_leaves=0, min_child_weight=1,\n",
       "                               missing=nan, monotone_constraints='()',\n",
       "                               n_estimators=300, n_jobs=0, num_parallel_tree=1,\n",
       "                               objective='multi:softprob', predictor='auto',\n",
       "                               random_state=0, reg_alpha=0, ...))])"
      ]
     },
     "execution_count": 32,
     "metadata": {},
     "output_type": "execute_result"
    }
   ],
   "source": [
    "from sklearn.preprocessing import OneHotEncoder\n",
    "from sklearn.compose import make_column_transformer\n",
    "column_trans = make_column_transformer(\n",
    "    (OneHotEncoder(),['Team1', 'Team2']),remainder='passthrough')\n",
    "\n",
    "pipe_X = pipe_DF.drop('Team1_Result',axis=1)\n",
    "pipe_y = pipe_DF['Team1_Result']\n",
    "\n",
    "from sklearn.pipeline import make_pipeline\n",
    "pipe_League = make_pipeline(column_trans,StandardScaler(with_mean=False),XGBClassifier(use_label_encoder=False, gamma= 0.01, learning_rate= 0.01, n_estimators= 300, max_depth= 4))\n",
    "pipe_League.fit(pipe_X,pipe_y)"
   ]
  },
  {
   "cell_type": "code",
   "execution_count": 33,
   "id": "1f971660",
   "metadata": {},
   "outputs": [
    {
     "data": {
      "text/plain": [
       "['../groups_stage_prediction.pkl']"
      ]
     },
     "execution_count": 33,
     "metadata": {},
     "output_type": "execute_result"
    }
   ],
   "source": [
    "import joblib\n",
    "joblib.dump(pipe_League,\"../groups_stage_prediction.pkl\")"
   ]
  },
  {
   "cell_type": "code",
   "execution_count": 34,
   "id": "01773b47",
   "metadata": {},
   "outputs": [],
   "source": [
    "# Choosing the model\n",
    "# Removing Draw status"
   ]
  },
  {
   "cell_type": "code",
   "execution_count": 35,
   "id": "d190134e",
   "metadata": {},
   "outputs": [],
   "source": [
    "knock_df = pipe_DF[pipe_DF['Team1_Result'] != 2]"
   ]
  },
  {
   "cell_type": "code",
   "execution_count": 36,
   "id": "ed14cf01",
   "metadata": {},
   "outputs": [],
   "source": [
    "pipe_knock_df = knock_df\n",
    "knock_df = pd.get_dummies(knock_df)\n",
    "X = knock_df.drop('Team1_Result',axis=1)\n",
    "y = knock_df['Team1_Result']\n",
    "\n",
    "X_train, X_val, y_train, y_val = train_test_split(X, y, test_size=0.2, random_state=42)\n",
    "X_hold_test, X_test, y_hold_test, y_test = train_test_split(X_val, y_val, test_size=0.5, random_state=42)"
   ]
  },
  {
   "cell_type": "code",
   "execution_count": 37,
   "id": "04b949e5",
   "metadata": {},
   "outputs": [],
   "source": [
    "# Ada Boost Classifier"
   ]
  },
  {
   "cell_type": "code",
   "execution_count": null,
   "id": "b14feb86",
   "metadata": {},
   "outputs": [],
   "source": []
  },
  {
   "cell_type": "code",
   "execution_count": 38,
   "id": "a28194ca",
   "metadata": {},
   "outputs": [
    {
     "name": "stdout",
     "output_type": "stream",
     "text": [
      "              precision    recall  f1-score   support\n",
      "\n",
      "           0       0.69      0.61      0.65       243\n",
      "           1       0.81      0.86      0.84       479\n",
      "\n",
      "    accuracy                           0.78       722\n",
      "   macro avg       0.75      0.74      0.74       722\n",
      "weighted avg       0.77      0.78      0.77       722\n",
      "\n"
     ]
    },
    {
     "data": {
      "image/png": "[encoded data removed]",
      "text/plain": [
       "<Figure size 432x288 with 2 Axes>"
      ]
     },
     "metadata": {
      "needs_background": "light"
     },
     "output_type": "display_data"
    }
   ],
   "source": [
    "metrics_display(AdaBoostClassifier())"
   ]
  },
  {
   "cell_type": "code",
   "execution_count": 39,
   "id": "01a1f3c7",
   "metadata": {},
   "outputs": [],
   "source": [
    "# Rand For"
   ]
  },
  {
   "cell_type": "code",
   "execution_count": 40,
   "id": "7ef31514",
   "metadata": {},
   "outputs": [
    {
     "name": "stdout",
     "output_type": "stream",
     "text": [
      "              precision    recall  f1-score   support\n",
      "\n",
      "           0       0.65      0.64      0.64       243\n",
      "           1       0.82      0.83      0.82       479\n",
      "\n",
      "    accuracy                           0.76       722\n",
      "   macro avg       0.73      0.73      0.73       722\n",
      "weighted avg       0.76      0.76      0.76       722\n",
      "\n"
     ]
    },
    {
     "data": {
      "image/png": "[encoded data removed]",
      "text/plain": [
       "<Figure size 432x288 with 2 Axes>"
      ]
     },
     "metadata": {
      "needs_background": "light"
     },
     "output_type": "display_data"
    }
   ],
   "source": [
    "metrics_display(RandomForestClassifier())"
   ]
  },
  {
   "cell_type": "code",
   "execution_count": 41,
   "id": "b9b9f483",
   "metadata": {},
   "outputs": [],
   "source": [
    "# XG bosst"
   ]
  },
  {
   "cell_type": "code",
   "execution_count": 42,
   "id": "f93f0667",
   "metadata": {},
   "outputs": [
    {
     "name": "stdout",
     "output_type": "stream",
     "text": [
      "              precision    recall  f1-score   support\n",
      "\n",
      "           0       0.68      0.64      0.66       243\n",
      "           1       0.82      0.85      0.84       479\n",
      "\n",
      "    accuracy                           0.78       722\n",
      "   macro avg       0.75      0.74      0.75       722\n",
      "weighted avg       0.78      0.78      0.78       722\n",
      "\n"
     ]
    },
    {
     "data": {
      "image/png": "[encoded data removed]",
      "text/plain": [
       "<Figure size 432x288 with 2 Axes>"
      ]
     },
     "metadata": {
      "needs_background": "light"
     },
     "output_type": "display_data"
    }
   ],
   "source": [
    "metrics_display(XGBClassifier(use_label_encoder=False))"
   ]
  },
  {
   "cell_type": "code",
   "execution_count": 43,
   "id": "3cb35752",
   "metadata": {},
   "outputs": [],
   "source": [
    "# Neural network"
   ]
  },
  {
   "cell_type": "code",
   "execution_count": null,
   "id": "bafb7ea9",
   "metadata": {},
   "outputs": [],
   "source": []
  },
  {
   "cell_type": "code",
   "execution_count": 44,
   "id": "b68b055d",
   "metadata": {},
   "outputs": [
    {
     "data": {
      "text/plain": [
       "(5772, 399)"
      ]
     },
     "execution_count": 44,
     "metadata": {},
     "output_type": "execute_result"
    }
   ],
   "source": [
    "X_train.shape"
   ]
  },
  {
   "cell_type": "code",
   "execution_count": 45,
   "id": "ebc69618",
   "metadata": {},
   "outputs": [
    {
     "name": "stdout",
     "output_type": "stream",
     "text": [
      "Epoch 1/10\n",
      "145/145 [==============================] - 2s 9ms/step - loss: 1.4855 - accuracy: 0.6615 - val_loss: 0.5102 - val_accuracy: 0.7377\n",
      "Epoch 2/10\n",
      "145/145 [==============================] - 1s 7ms/step - loss: 0.5884 - accuracy: 0.7074 - val_loss: 0.5078 - val_accuracy: 0.7766\n",
      "Epoch 3/10\n",
      "145/145 [==============================] - 1s 7ms/step - loss: 0.5298 - accuracy: 0.7412 - val_loss: 0.4809 - val_accuracy: 0.7827\n",
      "Epoch 4/10\n",
      "145/145 [==============================] - 1s 8ms/step - loss: 0.5209 - accuracy: 0.7438 - val_loss: 0.4835 - val_accuracy: 0.7818\n",
      "Epoch 5/10\n",
      "145/145 [==============================] - 1s 8ms/step - loss: 0.5098 - accuracy: 0.7490 - val_loss: 0.4971 - val_accuracy: 0.7714\n",
      "Epoch 6/10\n",
      "145/145 [==============================] - 1s 7ms/step - loss: 0.5019 - accuracy: 0.7540 - val_loss: 0.4854 - val_accuracy: 0.7766\n",
      "Epoch 7/10\n",
      "145/145 [==============================] - 1s 7ms/step - loss: 0.5005 - accuracy: 0.7496 - val_loss: 0.4706 - val_accuracy: 0.7810\n",
      "Epoch 8/10\n",
      "145/145 [==============================] - 1s 7ms/step - loss: 0.5019 - accuracy: 0.7509 - val_loss: 0.5000 - val_accuracy: 0.7584\n",
      "Epoch 9/10\n",
      "145/145 [==============================] - 1s 7ms/step - loss: 0.4988 - accuracy: 0.7522 - val_loss: 0.4652 - val_accuracy: 0.7827\n",
      "Epoch 10/10\n",
      "145/145 [==============================] - 1s 7ms/step - loss: 0.4973 - accuracy: 0.7509 - val_loss: 0.4692 - val_accuracy: 0.7766\n",
      "              precision    recall  f1-score   support\n",
      "\n",
      "           0       0.73      0.52      0.61       243\n",
      "           1       0.79      0.90      0.84       479\n",
      "\n",
      "    accuracy                           0.77       722\n",
      "   macro avg       0.76      0.71      0.72       722\n",
      "weighted avg       0.77      0.77      0.76       722\n",
      "\n"
     ]
    },
    {
     "data": {
      "text/plain": [
       "<sklearn.metrics._plot.confusion_matrix.ConfusionMatrixDisplay at 0x256e4143b20>"
      ]
     },
     "execution_count": 45,
     "metadata": {},
     "output_type": "execute_result"
    },
    {
     "data": {
      "image/png": "[encoded data removed]",
      "text/plain": [
       "<Figure size 432x288 with 2 Axes>"
      ]
     },
     "metadata": {
      "needs_background": "light"
     },
     "output_type": "display_data"
    }
   ],
   "source": [
    "model = Sequential()\n",
    "model.add(Input(shape=(399,)))\n",
    "model.add(Dense(300,activation='relu'))\n",
    "model.add(Dropout(0.3))\n",
    "model.add(Dense(200,activation='relu'))\n",
    "model.add(Dropout(0.3))\n",
    "model.add(Dense(100,activation='relu'))\n",
    "model.add(Dropout(0.3))\n",
    "model.add(Dense(2,activation='softmax'))\n",
    "model.compile(loss='sparse_categorical_crossentropy', optimizer='adam', metrics=['accuracy'])\n",
    "model.fit(X_train,y_train,epochs=10,validation_split=0.2)\n",
    "\n",
    "y_pred1 = model.predict(X_test)\n",
    "y_pred1 = np.argmax(y_pred1,axis=1)\n",
    "print(classification_report(y_test,y_pred1))\n",
    "ConfusionMatrixDisplay.from_predictions(y_test,y_pred1)"
   ]
  },
  {
   "cell_type": "code",
   "execution_count": null,
   "id": "0e252a2f",
   "metadata": {},
   "outputs": [],
   "source": []
  }
 ],
 "metadata": {
  "kernelspec": {
   "display_name": "Python 3 (ipykernel)",
   "language": "python",
   "name": "python3"
  },
  "language_info": {
   "codemirror_mode": {
    "name": "ipython",
    "version": 3
   },
   "file_extension": ".py",
   "mimetype": "text/x-python",
   "name": "python",
   "nbconvert_exporter": "python",
   "pygments_lexer": "ipython3",
   "version": "3.8.8"
  }
 },
 "nbformat": 4,
 "nbformat_minor": 5
}
